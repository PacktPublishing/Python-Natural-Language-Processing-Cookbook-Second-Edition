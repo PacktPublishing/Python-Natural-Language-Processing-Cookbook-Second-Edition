{
 "cells": [
  {
   "cell_type": "code",
   "execution_count": 2,
   "id": "aa2e1265-86b9-4d06-9e96-1f12a8167a33",
   "metadata": {},
   "outputs": [],
   "source": [
    "%run -i \"../util/file_utils.ipynb\"\n",
    "%run -i \"../util/util_simple_classifier.ipynb\""
   ]
  },
  {
   "cell_type": "code",
   "execution_count": 24,
   "id": "a6155c09-203e-41f3-9994-ad72c1b1aa9b",
   "metadata": {},
   "outputs": [],
   "source": [
    "import re\n",
    "from sklearn.metrics import classification_report\n",
    "import openai\n",
    "openai.api_key = OPEN_AI_KEY"
   ]
  },
  {
   "cell_type": "code",
   "execution_count": 4,
   "id": "410bbf87-e0fa-43dd-be78-487793741f54",
   "metadata": {},
   "outputs": [
    {
     "name": "stderr",
     "output_type": "stream",
     "text": [
      "Repo card metadata block was not found. Setting CardData to empty.\n",
      "Repo card metadata block was not found. Setting CardData to empty.\n"
     ]
    }
   ],
   "source": [
    "train_dataset = load_dataset(\"SetFit/bbc-news\", split=\"train\")\n",
    "test_dataset = load_dataset(\"SetFit/bbc-news\", split=\"test\")"
   ]
  },
  {
   "cell_type": "code",
   "execution_count": 5,
   "id": "13e520c1-eb09-4218-9154-3874c7c2bb63",
   "metadata": {},
   "outputs": [
    {
     "name": "stdout",
     "output_type": "stream",
     "text": [
      "carry on star patsy rowlands dies actress patsy rowlands  known to millions for her roles in the carry on films  has died at the age of 71.  rowlands starred in nine of the popular carry on films  alongside fellow regulars sid james  kenneth williams and barbara windsor. she also carved out a successful television career  appearing for many years in itv s well-loved comedy bless this house. rowlands died in hove on saturday morning  her agent said.  born in january 1934  rowlands won a scholarship to the guildhall school of speech and drama scholarship when she was just 15.  after spending several years at the players theatre in london  she made her film debut in 1963 in tom jones  directed by tony richardson. she made her first carry on film in 1969 where she appeared in carry on again doctor. rowlands played the hard-done-by wife or the put-upon employee as a regular carry on star. she also appeared in carry on at your convenience  carry on matron and carry on loving  as well as others.  in recent years she appeared in bbc mini-series the cazalets and played mrs potts in the london stage version of beauty and the beast. agent simon beresford said:  she was just an absolutely favourite client she never complained about anything  particularly when she was ill  she was an old trouper.  she was of the old school - she had skills from musical theatre and high drama  that is why she worked with the great and the good of directors.  she didn t mind always being recognised for the carry on films because she thoroughly enjoyed making them. she was a really lovely person and she will be much missed.  her last appearance on stage was as mrs pearce in the award-winning production of my fair lady at the national theatre. previously married  she leaves one son  alan. her funeral will be a private  family occasion  with a memorial service at a later date.\n"
     ]
    }
   ],
   "source": [
    "example = test_dataset[0][\"text\"]\n",
    "print(example)"
   ]
  },
  {
   "cell_type": "code",
   "execution_count": 9,
   "id": "e1ebe9f5-68a4-4855-af5e-7043ef7034c1",
   "metadata": {},
   "outputs": [
    {
     "name": "stdout",
     "output_type": "stream",
     "text": [
      "\n",
      "\n",
      "Entertainment\n"
     ]
    }
   ],
   "source": [
    "# Run GPT-3 for one example\n",
    "prompt=\"\"\"You are classifying texts by topics. There are 5 topics: tech, entertainment, business, politics and sport.\n",
    "Give the following text, what is its topic from the above list: \"\"\" + example\n",
    "response = openai.Completion.create(\n",
    "    model=\"text-davinci-003\",\n",
    "    prompt=prompt,\n",
    "    temperature=0,\n",
    "    max_tokens=256,\n",
    "    top_p=1.0,\n",
    "    frequency_penalty=0,\n",
    "    presence_penalty=0\n",
    ")\n",
    "print(response[\"choices\"][0][\"text\"])"
   ]
  },
  {
   "cell_type": "code",
   "execution_count": 19,
   "id": "494814c4-ab0a-4fb6-8681-4051b80d75c4",
   "metadata": {},
   "outputs": [],
   "source": [
    "# Evaluate GPT classification on several examples\n",
    "def get_gpt_classification(input_text):\n",
    "    prompt=\"\"\"You are classifying texts by topics. There are 5 topics: tech, entertainment, business, politics and sport.\n",
    "Give the following text, what is its topic from the above list: \"\"\" + input_text\n",
    "    response = openai.Completion.create(\n",
    "        model=\"text-davinci-003\",\n",
    "        prompt=prompt,\n",
    "        temperature=0,\n",
    "        max_tokens=256,\n",
    "        top_p=1.0,\n",
    "        frequency_penalty=0,\n",
    "        presence_penalty=0\n",
    "    )\n",
    "    classification = response[\"choices\"][0][\"text\"]\n",
    "    classification = classification.lower().strip()\n",
    "    return classification"
   ]
  },
  {
   "cell_type": "code",
   "execution_count": 20,
   "id": "051f81a2-80ae-448e-a5f3-318507ebb968",
   "metadata": {},
   "outputs": [],
   "source": [
    "test_df = test_dataset.to_pandas()\n",
    "test_df.sample(frac=1)\n",
    "test_data = test_df[0:200].copy()"
   ]
  },
  {
   "cell_type": "code",
   "execution_count": 21,
   "id": "dd1cce33-4049-4c30-b465-9774275a902c",
   "metadata": {},
   "outputs": [],
   "source": [
    "test_data[\"gpt_prediction\"] = test_data[\"text\"].apply(lambda x: get_gpt_classification(x))\n"
   ]
  },
  {
   "cell_type": "code",
   "execution_count": 22,
   "id": "de485a44-fb42-4f39-90b8-256335a47602",
   "metadata": {},
   "outputs": [
    {
     "name": "stdout",
     "output_type": "stream",
     "text": [
      "                                                  text  label     label_text  \\\n",
      "0    carry on star patsy rowlands dies actress pats...      3  entertainment   \n",
      "1    sydney to host north v south game sydney will ...      2          sport   \n",
      "2    uk coal plunges into deeper loss shares in uk ...      1       business   \n",
      "3    blair joins school sailing trip the prime mini...      4       politics   \n",
      "4    bath faced with tindall ultimatum mike tindall...      2          sport   \n",
      "..                                                 ...    ...            ...   \n",
      "195  french wine gets 70m euro top-up the french go...      1       business   \n",
      "196  argonaut founder rebuilds empire jez san  the ...      0           tech   \n",
      "197  half-life 2 sweeps bafta awards pc first perso...      0           tech   \n",
      "198  xbox power cable  fire fear  microsoft has sai...      0           tech   \n",
      "199  prop jones ready for hard graft adam jones say...      2          sport   \n",
      "\n",
      "    gpt_prediction  \n",
      "0    entertainment  \n",
      "1            sport  \n",
      "2         business  \n",
      "3         politics  \n",
      "4         business  \n",
      "..             ...  \n",
      "195       politics  \n",
      "196       business  \n",
      "197          sport  \n",
      "198           tech  \n",
      "199          sport  \n",
      "\n",
      "[200 rows x 4 columns]\n"
     ]
    }
   ],
   "source": [
    "print(test_data)"
   ]
  },
  {
   "cell_type": "code",
   "execution_count": 33,
   "id": "a4b09195-74cd-4e6f-97af-c882a6a402a4",
   "metadata": {},
   "outputs": [],
   "source": [
    "def get_one_word_match(input_text):\n",
    "    loc = re.search(r'tech|entertainment|business|sport|politics', input_text).span()\n",
    "    return input_text[loc[0]:loc[1]]\n",
    "test_data[\"gpt_prediction\"] = test_data[\"gpt_prediction\"].apply(lambda x: get_one_word_match(x))"
   ]
  },
  {
   "cell_type": "code",
   "execution_count": 34,
   "id": "1e890aea-9205-4393-9a6b-a7a34110ef06",
   "metadata": {},
   "outputs": [],
   "source": [
    "label_list = [\"tech\", \"business\", \"sport\", \"entertainment\", \"politics\"]\n",
    "test_data[\"gpt_label\"] = test_data[\"gpt_prediction\"].apply(lambda x: label_list.index(x))"
   ]
  },
  {
   "cell_type": "code",
   "execution_count": 35,
   "id": "72d1fd90-9904-4cb7-a5f5-8ea6bfee333c",
   "metadata": {},
   "outputs": [
    {
     "name": "stdout",
     "output_type": "stream",
     "text": [
      "                                                  text  label     label_text  \\\n",
      "0    carry on star patsy rowlands dies actress pats...      3  entertainment   \n",
      "1    sydney to host north v south game sydney will ...      2          sport   \n",
      "2    uk coal plunges into deeper loss shares in uk ...      1       business   \n",
      "3    blair joins school sailing trip the prime mini...      4       politics   \n",
      "4    bath faced with tindall ultimatum mike tindall...      2          sport   \n",
      "..                                                 ...    ...            ...   \n",
      "195  french wine gets 70m euro top-up the french go...      1       business   \n",
      "196  argonaut founder rebuilds empire jez san  the ...      0           tech   \n",
      "197  half-life 2 sweeps bafta awards pc first perso...      0           tech   \n",
      "198  xbox power cable  fire fear  microsoft has sai...      0           tech   \n",
      "199  prop jones ready for hard graft adam jones say...      2          sport   \n",
      "\n",
      "    gpt_prediction  gpt_label  \n",
      "0    entertainment          3  \n",
      "1            sport          2  \n",
      "2         business          1  \n",
      "3         politics          4  \n",
      "4         business          1  \n",
      "..             ...        ...  \n",
      "195       politics          4  \n",
      "196       business          1  \n",
      "197          sport          2  \n",
      "198           tech          0  \n",
      "199          sport          2  \n",
      "\n",
      "[200 rows x 5 columns]\n"
     ]
    }
   ],
   "source": [
    "print(test_data)"
   ]
  },
  {
   "cell_type": "code",
   "execution_count": 37,
   "id": "5883f8cf-1e28-4d5f-81c1-2cc7e08a4b70",
   "metadata": {},
   "outputs": [
    {
     "name": "stdout",
     "output_type": "stream",
     "text": [
      "               precision    recall  f1-score   support\n",
      "\n",
      "         tech       0.93      0.63      0.75        41\n",
      "     business       0.66      0.57      0.61        44\n",
      "        sport       0.93      0.90      0.91        48\n",
      "entertainment       0.93      0.70      0.80        40\n",
      "     politics       0.45      0.96      0.61        27\n",
      "\n",
      "     accuracy                           0.74       200\n",
      "    macro avg       0.78      0.75      0.74       200\n",
      " weighted avg       0.81      0.74      0.75       200\n",
      "\n"
     ]
    }
   ],
   "source": [
    "print(classification_report(test_data[\"label\"], test_data[\"gpt_label\"], target_names=label_list))"
   ]
  },
  {
   "cell_type": "code",
   "execution_count": null,
   "id": "a7eb7aa4-b846-4a2f-beae-0940fb8936d8",
   "metadata": {},
   "outputs": [],
   "source": []
  }
 ],
 "metadata": {
  "kernelspec": {
   "display_name": "Python 3 (ipykernel)",
   "language": "python",
   "name": "python3"
  },
  "language_info": {
   "codemirror_mode": {
    "name": "ipython",
    "version": 3
   },
   "file_extension": ".py",
   "mimetype": "text/x-python",
   "name": "python",
   "nbconvert_exporter": "python",
   "pygments_lexer": "ipython3",
   "version": "3.10.12"
  }
 },
 "nbformat": 4,
 "nbformat_minor": 5
}
