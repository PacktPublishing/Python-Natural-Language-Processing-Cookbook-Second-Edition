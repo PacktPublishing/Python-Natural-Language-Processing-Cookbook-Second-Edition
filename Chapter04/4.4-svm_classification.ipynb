{
 "cells": [
  {
   "cell_type": "code",
   "execution_count": 1,
   "id": "718a753b",
   "metadata": {},
   "outputs": [],
   "source": [
    "%run -i \"../util/util_simple_classifier.ipynb\""
   ]
  },
  {
   "cell_type": "code",
   "execution_count": 2,
   "id": "e0c30712",
   "metadata": {},
   "outputs": [],
   "source": [
    "from sklearn.svm import SVC\n",
    "from sentence_transformers import SentenceTransformer\n",
    "from sklearn.metrics import confusion_matrix"
   ]
  },
  {
   "cell_type": "code",
   "execution_count": 3,
   "id": "b4f30b20",
   "metadata": {},
   "outputs": [
    {
     "name": "stdout",
     "output_type": "stream",
     "text": [
      "               text  label  text_tokenized  text_clean\n",
      "label_text                                            \n",
      "business        408    408             408         408\n",
      "entertainment   309    309             309         309\n",
      "politics        333    333             333         333\n",
      "sport           409    409             409         409\n",
      "tech            321    321             321         321\n",
      "               text  label  text_tokenized  text_clean\n",
      "label_text                                            \n",
      "business        102    102             102         102\n",
      "entertainment    77     77              77          77\n",
      "politics         84     84              84          84\n",
      "sport           102    102             102         102\n",
      "tech             80     80              80          80\n"
     ]
    }
   ],
   "source": [
    "train_df = pd.read_json(\"../data/bbc_train.json\")\n",
    "test_df = pd.read_json(\"../data/bbc_test.json\")\n",
    "train_df.sample(frac=1)\n",
    "print(train_df.groupby('label_text').count())\n",
    "print(test_df.groupby('label_text').count())"
   ]
  },
  {
   "cell_type": "code",
   "execution_count": 4,
   "id": "10ad6c3f",
   "metadata": {},
   "outputs": [],
   "source": [
    "model = SentenceTransformer('all-MiniLM-L6-v2')\n",
    "def get_sentence_vector(text, model):\n",
    "    sentence_embeddings = model.encode([text])\n",
    "    return sentence_embeddings[0]"
   ]
  },
  {
   "cell_type": "code",
   "execution_count": 5,
   "id": "1f81873a",
   "metadata": {},
   "outputs": [],
   "source": [
    "def train_classifier(X_train, y_train):\n",
    "    clf = SVC(C=0.1, kernel='rbf')\n",
    "    clf = clf.fit(X_train, y_train)\n",
    "    return clf"
   ]
  },
  {
   "cell_type": "code",
   "execution_count": 6,
   "id": "00abc407",
   "metadata": {},
   "outputs": [
    {
     "name": "stdout",
     "output_type": "stream",
     "text": [
      "               precision    recall  f1-score   support\n",
      "\n",
      "         tech       1.00      1.00      1.00       321\n",
      "     business       1.00      1.00      1.00       408\n",
      "        sport       1.00      1.00      1.00       409\n",
      "entertainment       1.00      1.00      1.00       309\n",
      "     politics       1.00      1.00      1.00       333\n",
      "\n",
      "     accuracy                           1.00      1780\n",
      "    macro avg       1.00      1.00      1.00      1780\n",
      " weighted avg       1.00      1.00      1.00      1780\n",
      "\n",
      "               precision    recall  f1-score   support\n",
      "\n",
      "         tech       0.97      0.95      0.96        80\n",
      "     business       0.98      0.97      0.98       102\n",
      "        sport       0.98      1.00      0.99       102\n",
      "entertainment       0.96      0.99      0.97        77\n",
      "     politics       0.98      0.96      0.97        84\n",
      "\n",
      "     accuracy                           0.98       445\n",
      "    macro avg       0.97      0.97      0.97       445\n",
      " weighted avg       0.98      0.98      0.98       445\n",
      "\n"
     ]
    }
   ],
   "source": [
    "target_names=[\"tech\", \"business\", \"sport\", \"entertainment\", \"politics\"]\n",
    "vectorize = lambda x: get_sentence_vector(x, model)\n",
    "(X_train, X_test, y_train, y_test) = create_train_test_data(train_df, test_df, vectorize, column_name=\"text_clean\")\n",
    "clf = train_classifier(X_train, y_train)\n",
    "print(classification_report(train_df[\"label\"], y_train, target_names=target_names))\n",
    "test_classifier(test_df, clf, target_names=target_names)"
   ]
  },
  {
   "cell_type": "code",
   "execution_count": 7,
   "id": "f795e83b",
   "metadata": {},
   "outputs": [
    {
     "name": "stdout",
     "output_type": "stream",
     "text": [
      "[[ 76   0   1   2   1]\n",
      " [  1  99   1   1   0]\n",
      " [  0   0 102   0   0]\n",
      " [  0   0   0  76   1]\n",
      " [  1   2   0   0  81]]\n"
     ]
    }
   ],
   "source": [
    "print(confusion_matrix(test_df[\"label\"], test_df[\"prediction\"]))"
   ]
  },
  {
   "cell_type": "code",
   "execution_count": 9,
   "id": "66829984",
   "metadata": {},
   "outputs": [
    {
     "name": "stdout",
     "output_type": "stream",
     "text": [
      "[0]\n"
     ]
    }
   ],
   "source": [
    "new_example = \"\"\"iPhone 12: Apple makes jump to 5G\n",
    "Apple has confirmed its iPhone 12 handsets will be its first to work on faster 5G networks. \n",
    "The company has also extended the range to include a new \"Mini\" model that has a smaller 5.4in screen. \n",
    "The US firm bucked a wider industry downturn by increasing its handset sales over the past year. \n",
    "But some experts say the new features give Apple its best opportunity for growth since 2014, when it revamped its line-up with the iPhone 6. \n",
    "\"5G will bring a new level of performance for downloads and uploads, higher quality video streaming, more responsive gaming, \n",
    "real-time interactivity and so much more,\" said chief executive Tim Cook. \n",
    "There has also been a cosmetic refresh this time round, with the sides of the devices getting sharper, flatter edges. \n",
    "The higher-end iPhone 12 Pro models also get bigger screens than before and a new sensor to help with low-light photography. \n",
    "However, for the first time none of the devices will be bundled with headphones or a charger. \n",
    "Apple said the move was to help reduce its impact on the environment. \"Tim Cook [has] the stage set for a super-cycle 5G product release,\" \n",
    "commented Dan Ives, an analyst at Wedbush Securities. \n",
    "He added that about 40% of the 950 million iPhones in use had not been upgraded in at least three-and-a-half years, presenting a \"once-in-a-decade\" opportunity. \n",
    "In theory, the Mini could dent Apple's earnings by encouraging the public to buy a product on which it makes a smaller profit than the other phones. \n",
    "But one expert thought that unlikely. \n",
    "\"Apple successfully launched the iPhone SE in April by introducing it at a lower price point without cannibalising sales of the iPhone 11 series,\" noted Marta Pinto from IDC. \n",
    "\"There are customers out there who want a smaller, cheaper phone, so this is a proven formula that takes into account market trends.\" \n",
    "The iPhone is already the bestselling smartphone brand in the UK and the second-most popular in the world in terms of market share. \n",
    "If forecasts of pent up demand are correct, it could prompt a battle between network operators, as customers become more likely to switch. \n",
    "\"Networks are going to have to offer eye-wateringly attractive deals, and the way they're going to do that is on great tariffs and attractive trade-in deals,\" \n",
    "predicted Ben Wood from the consultancy CCS Insight. Apple typically unveils its new iPhones in September, but opted for a later date this year. \n",
    "It has not said why, but it was widely speculated to be related to disruption caused by the coronavirus pandemic. The firm's shares ended the day 2.7% lower. \n",
    "This has been linked to reports that several Chinese internet platforms opted not to carry the livestream, \n",
    "although it was still widely viewed and commented on via the social media network Sina Weibo.\"\"\"\n",
    "vector = vectorize(new_example)\n",
    "prediction = clf.predict([vector])\n",
    "print(prediction)"
   ]
  },
  {
   "cell_type": "code",
   "execution_count": null,
   "id": "23fbeed8-8c0a-400c-acee-995e06510270",
   "metadata": {},
   "outputs": [],
   "source": []
  }
 ],
 "metadata": {
  "kernelspec": {
   "display_name": "Python 3 (ipykernel)",
   "language": "python",
   "name": "python3"
  },
  "language_info": {
   "codemirror_mode": {
    "name": "ipython",
    "version": 3
   },
   "file_extension": ".py",
   "mimetype": "text/x-python",
   "name": "python",
   "nbconvert_exporter": "python",
   "pygments_lexer": "ipython3",
   "version": "3.10.12"
  }
 },
 "nbformat": 4,
 "nbformat_minor": 5
}
