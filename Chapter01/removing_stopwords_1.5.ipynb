{
 "cells": [
  {
   "cell_type": "code",
   "execution_count": 59,
   "id": "af956bc0",
   "metadata": {},
   "outputs": [],
   "source": [
    "%run -i \"../util/file_utils.ipynb\"\n",
    "%run -i \"../util/lang_utils.ipynb\""
   ]
  },
  {
   "cell_type": "markdown",
   "id": "d07e59ec",
   "metadata": {},
   "source": [
    "# Remove stopwords using NLTK"
   ]
  },
  {
   "cell_type": "code",
   "execution_count": 73,
   "id": "4f7ea17a",
   "metadata": {},
   "outputs": [
    {
     "name": "stdout",
     "output_type": "stream",
     "text": [
      "['i', 'me', 'my', 'myself', 'we', 'our', 'ours', 'ourselves', 'you', \"you're\", \"you've\", \"you'll\", \"you'd\", 'your', 'yours', 'yourself', 'yourselves', 'he', 'him', 'his', 'himself', 'she', \"she's\", 'her', 'hers', 'herself', 'it', \"it's\", 'its', 'itself', 'they', 'them', 'their', 'theirs', 'themselves', 'what', 'which', 'who', 'whom', 'this', 'that', \"that'll\", 'these', 'those', 'am', 'is', 'are', 'was', 'were', 'be', 'been', 'being', 'have', 'has', 'had', 'having', 'do', 'does', 'did', 'doing', 'a', 'an', 'the', 'and', 'but', 'if', 'or', 'because', 'as', 'until', 'while', 'of', 'at', 'by', 'for', 'with', 'about', 'against', 'between', 'into', 'through', 'during', 'before', 'after', 'above', 'below', 'to', 'from', 'up', 'down', 'in', 'out', 'on', 'off', 'over', 'under', 'again', 'further', 'then', 'once', 'here', 'there', 'when', 'where', 'why', 'how', 'all', 'any', 'both', 'each', 'few', 'more', 'most', 'other', 'some', 'such', 'no', 'nor', 'not', 'only', 'own', 'same', 'so', 'than', 'too', 'very', 's', 't', 'can', 'will', 'just', 'don', \"don't\", 'should', \"should've\", 'now', 'd', 'll', 'm', 'o', 're', 've', 'y', 'ain', 'aren', \"aren't\", 'couldn', \"couldn't\", 'didn', \"didn't\", 'doesn', \"doesn't\", 'hadn', \"hadn't\", 'hasn', \"hasn't\", 'haven', \"haven't\", 'isn', \"isn't\", 'ma', 'mightn', \"mightn't\", 'mustn', \"mustn't\", 'needn', \"needn't\", 'shan', \"shan't\", 'shouldn', \"shouldn't\", 'wasn', \"wasn't\", 'weren', \"weren't\", 'won', \"won't\", 'wouldn', \"wouldn't\"]\n",
      "<class 'list'>\n"
     ]
    }
   ],
   "source": [
    "from nltk.corpus import stopwords\n",
    "# nltk.download('stopwords') Run the first time\n",
    "print(stopwords.words('english'))"
   ]
  },
  {
   "cell_type": "code",
   "execution_count": 78,
   "id": "b24163a1",
   "metadata": {},
   "outputs": [
    {
     "name": "stdout",
     "output_type": "stream",
     "text": [
      "230\n"
     ]
    }
   ],
   "source": [
    "text = read_text_file(\"data/sherlock_holmes_1.txt\")\n",
    "words = word_tokenize_nltk(text)\n",
    "print(len(words))"
   ]
  },
  {
   "cell_type": "code",
   "execution_count": 74,
   "id": "967bfbd4",
   "metadata": {},
   "outputs": [
    {
     "name": "stdout",
     "output_type": "stream",
     "text": [
      "105\n"
     ]
    }
   ],
   "source": [
    "words = [word for word in words if word.lower() not in stopwords.words(\"english\")]\n",
    "print(len(words))"
   ]
  },
  {
   "cell_type": "code",
   "execution_count": 63,
   "id": "cc21fe23",
   "metadata": {},
   "outputs": [
    {
     "name": "stdout",
     "output_type": "stream",
     "text": [
      "179\n",
      "180\n"
     ]
    }
   ],
   "source": [
    "# Add more stopwords\n",
    "stop_words = stopwords.words(\"english\")\n",
    "print(len(stop_words))\n",
    "stop_words.append(\"here\")\n",
    "print(len(stop_words))"
   ]
  },
  {
   "cell_type": "markdown",
   "id": "c802e386",
   "metadata": {},
   "source": [
    "# Remove stopwords using spaCy"
   ]
  },
  {
   "cell_type": "code",
   "execution_count": 81,
   "id": "5a6eba63",
   "metadata": {},
   "outputs": [
    {
     "name": "stdout",
     "output_type": "stream",
     "text": [
      "{'your', 'fifteen', 'upon', 'now', 'behind', 'what', 'within', 'somehow', 'former', 'quite', 'therein', 'our', 'other', \"'ve\", 'beforehand', 'next', 'just', 'they', 'but', 'see', 'became', 'some', 'nothing', 'those', 'moreover', 'it', 'two', 'most', \"n't\", 'their', 'whereafter', 'to', 'empty', 'make', 'someone', 'must', 'thereafter', 'down', 'themselves', 'sometimes', 'ca', 'where', 'whole', 'during', 'then', 'call', 'on', 'more', 'really', 'whatever', 'last', 'put', 'me', 'thereby', 'could', 'were', 'forty', 'although', 'move', 'hereby', 'without', 'besides', 'take', '‘d', 'many', 'ours', 'neither', 'under', 'been', 'yourselves', 'thereupon', 'bottom', 'we', '’ll', 'before', 'seems', 'seem', 'or', 'therefore', 'ourselves', 'any', 'if', 'himself', 'everything', 'sixty', 'not', 'no', 'yours', 'that', 'again', 'used', '‘ve', 'ever', 'nowhere', 'keep', 'whither', 'out', 'which', 'amongst', 'either', 'sometime', 'has', 'whence', 'third', 'seeming', 'almost', 'cannot', 'become', 'afterwards', 'my', 'us', 'least', 'from', '’ve', 'would', 'of', 'since', 'for', 'have', 'about', 'using', 'am', 'three', 'others', 'few', 'herein', 'well', 'wherever', 'alone', 'anyhow', 'there', 'much', 'eleven', 'by', 'this', 'thus', 'together', 'in', 'does', 'namely', 'mostly', 'name', 'regarding', 'him', 'anyway', 'between', \"'s\", \"'m\", 'nine', 'via', 'herself', 'top', 'twenty', 'give', 'never', 'myself', 'often', 'else', 'through', 'do', 'everywhere', 'so', 'whose', 'beyond', 'too', 'had', 'than', 'here', '’d', 'perhaps', 'always', 'six', 'her', 're', 'i', 'around', 'be', 'various', 'another', 'already', 'who', 'latterly', 'an', '‘re', 'being', 'something', 'further', 'off', 'fifty', 'both', 'back', 'latter', 'four', 'n‘t', 'formerly', 'only', 'whereas', 'noone', 'as', 'even', 'eight', 'otherwise', 'becomes', 'front', 'made', 'may', 'first', 'show', 'several', 'nobody', 'itself', 'yet', 'against', 'indeed', 'along', 'anywhere', 'nor', 'amount', \"'ll\", 'can', 'at', 'less', 'except', 'hereupon', 'up', 'hence', 'none', 'once', '’s', 'go', 'same', 'while', 'one', 'ten', 'among', 'below', 'anything', 'get', 'when', 'his', 'the', 'serious', 'whoever', 'is', 'a', 'mine', '’m', 'every', 'whenever', 'these', 'very', 'part', 'all', 'he', 'thru', 'per', 'onto', 'into', 'own', 'doing', 'everyone', 'full', 'five', 'due', 'across', 'meanwhile', 'until', 'she', 'each', 'anyone', 'why', 'beside', 'whom', 'somewhere', 'please', 'nevertheless', 'enough', 'should', 'still', '‘ll', 'with', 'was', 'unless', 'did', 'such', 'hundred', 'might', 'whereupon', 'though', 'my_new_stopword', 'side', 'say', 'and', 'becoming', 'wherein', 'thence', 'you', 'towards', 'also', 'because', 'over', 'hers', \"'d\", \"'re\", 'yourself', 'whereby', 'whether', 'n’t', 'however', 'above', 'its', 'after', 'will', 'done', '‘m', 'are', 'them', 'seemed', 'how', 'toward', '’re', 'elsewhere', '‘s', 'hereafter', 'rather', 'throughout', 'twelve'}\n",
      "<class 'set'>\n"
     ]
    },
    {
     "data": {
      "text/plain": [
       "230"
      ]
     },
     "execution_count": 81,
     "metadata": {},
     "output_type": "execute_result"
    }
   ],
   "source": [
    "stopwords = small_model.Defaults.stop_words\n",
    "print(stopwords)\n",
    "print(type(stopwords))\n",
    "words = word_tokenize_nltk(text)\n",
    "print(len(words))"
   ]
  },
  {
   "cell_type": "code",
   "execution_count": 80,
   "id": "b6cc9720",
   "metadata": {},
   "outputs": [
    {
     "data": {
      "text/plain": [
       "106"
      ]
     },
     "execution_count": 80,
     "metadata": {},
     "output_type": "execute_result"
    }
   ],
   "source": [
    "words = [word for word in words if word.lower() not in stopwords]\n",
    "print(len(words))"
   ]
  },
  {
   "cell_type": "code",
   "execution_count": 66,
   "id": "cfcd23e4",
   "metadata": {},
   "outputs": [
    {
     "name": "stdout",
     "output_type": "stream",
     "text": [
      "327\n",
      "328\n"
     ]
    }
   ],
   "source": [
    "# Add stopwords\n",
    "print(len(stopwords))\n",
    "stopwords.add(\"new\")\n",
    "print(len(stopwords))"
   ]
  },
  {
   "cell_type": "code",
   "execution_count": 67,
   "id": "af5d7f84",
   "metadata": {},
   "outputs": [
    {
     "name": "stdout",
     "output_type": "stream",
     "text": [
      "328\n",
      "327\n"
     ]
    }
   ],
   "source": [
    "# Remove stopwords\n",
    "print(len(stopwords))\n",
    "stopwords.remove(\"new\")\n",
    "print(len(stopwords))"
   ]
  },
  {
   "cell_type": "markdown",
   "id": "e2ee89d7",
   "metadata": {},
   "source": [
    "# Remove stopwords using frequency"
   ]
  },
  {
   "cell_type": "code",
   "execution_count": 82,
   "id": "5ea831cd",
   "metadata": {},
   "outputs": [],
   "source": [
    "from nltk.probability import FreqDist"
   ]
  },
  {
   "cell_type": "code",
   "execution_count": 96,
   "id": "b8ae4955",
   "metadata": {},
   "outputs": [],
   "source": [
    "def compile_stopwords_list_frequency(text, cut_off=0.02):\n",
    "    words = word_tokenize_nltk(text)\n",
    "    freq_dist = FreqDist(word.lower() for word in words)\n",
    "    words_with_frequencies = [(word, freq_dist[word]) for word in freq_dist.keys()]\n",
    "    sorted_words = sorted(words_with_frequencies, key=lambda tup: tup[1])\n",
    "    stopwords = []\n",
    "    if (type(cut_off) is int):\n",
    "        stopwords = [tuple[0] for tuple in sorted_words if tuple[1] > cut_off] # First option: use a frequency cutoff\n",
    "    elif (type(cut_off) is float):\n",
    "        length_cutoff = int(cut_off*len(sorted_words)) # Second option: use a percentage of the words\n",
    "        stopwords = [tuple[0] for tuple in sorted_words[-length_cutoff:]]\n",
    "    else:\n",
    "        raise TypeError(\"The cut off needs to be either a float (percentage) or an int (frequency cut off)\")\n",
    "    return stopwords"
   ]
  },
  {
   "cell_type": "code",
   "execution_count": 97,
   "id": "74841a1e",
   "metadata": {},
   "outputs": [
    {
     "name": "stdout",
     "output_type": "stream",
     "text": [
      "['make', 'myself', 'night', 'until', 'street', 'few', 'why', 'thought', 'take', 'friend', 'lady', 'side', 'small', 'still', 'these', 'find', 'st.', 'every', 'watson', 'too', 'round', 'young', 'father', 'left', 'day', 'yet', 'first', 'once', 'took', 'its', 'eyes', 'long', 'miss', 'through', 'asked', 'most', 'saw', 'oh', 'morning', 'right', 'last', 'like', 'say', 'tell', 't', 'sherlock', 'their', 'go', 'own', 'after', 'away', 'never', 'good', 'nothing', 'case', 'however', 'quite', 'found', 'made', 'house', 'such', 'heard', 'way', 'yes', 'hand', 'much', 'matter', 'where', 'might', 'just', 'room', 'any', 'face', 'here', 'back', 'door', 'how', 'them', 'two', 'other', 'came', 'time', 'did', 'than', 'come', 'before', 'must', 'only', 'know', 'about', 'shall', 'think', 'more', 'over', 'us', 'well', 'am', 'or', 'may', 'they', ';', 'our', 'should', 'now', 'see', 'down', 'can', 'some', 'if', 'will', 'mr.', 'little', 'who', 'into', 'do', 'has', 'could', 'up', 'man', 'out', 'when', 'would', 'an', 'are', 'by', '!', 'were', 's', 'then', 'one', 'all', 'on', 'no', 'what', 'been', 'your', 'very', 'him', 'her', 'she', 'so', '‘', 'holmes', 'upon', 'this', 'said', 'from', 'there', 'we', 'me', 'be', 'but', 'not', 'for', '?', 'at', 'which', 'with', 'had', 'as', 'have', 'my', '’', 'is', 'his', 'was', 'you', 'he', 'it', 'that', 'in', '”', 'a', 'of', 'to', '“', 'and', 'i', '.', 'the', ',']\n",
      "181\n"
     ]
    }
   ],
   "source": [
    "text = read_text_file(\"data/sherlock_holmes.txt\")\n",
    "stopwords = compile_stopwords_list_frequency(text)\n",
    "print(stopwords)\n",
    "print(len(stopwords))"
   ]
  },
  {
   "cell_type": "code",
   "execution_count": 98,
   "id": "0d8826e8",
   "metadata": {},
   "outputs": [
    {
     "name": "stdout",
     "output_type": "stream",
     "text": [
      "['silence', 'married', 'late', 'week', 'led', 'girl', 'imagine', 'followed', 'dress', 'present', 'king', 'beside', 'windows', 'people', 'began', 'cab', 'held', 'square', 'goose', 'marriage', 'rooms', 'feet', 'appeared', 'none', 'called', 'white', 'john', 'drove', 'thank', 'reason', 'coronet', 'spoke', 'things', 'crime', 'family', 'manner', 'true', 'visitor', 'lost', 'taken', 'letters', 'absolutely', 'floor', 'fear', 'air', 'hard', 'coming', 'remember', 'above', 'husband', 'keep', 'used', 'clair', 'seven', 'want', 'dr.', 'walked', 'seems', 'cry', 'ten', 'red', 'letter', 'ran', 'obvious', 'stone', 'cut', 'threw', 'heavy', 'death', 'else', 'god', 'inspector', 'colonel', 'new', 'country', 'don', 'note', 'client', 'four', 'road', 'turn', 'instant', 'waiting', 'several', 'going', 'sound', 'best', 'able', 'became', 'near', 'evening', 'hope', 'forward', 'felt', 'each', 'story', 'part', 'corner', 'given', 'hear', 'laid', 'use', 'fellow', 'ah', 'strong', 'singular', 'companion', 'either', 'o', 'hour', 'entered', 'rushed', 'sister', 'dark', 'together', 'believe', 'facts', 'question', 'interest', 'll', 'five', 'among', 'stood', 'opened', 'least', 'ask', 'mccarthy', 'returned', 'london', 'read', 'moment', '£', 'save', 'across', 'rucastle', 'word', 'clock', 'doctor', 'less', 'during', 'does', 'bed', 'lestrade', 'simon', 'men', 'half', 'since', 'you.', 'paper', 'it.', 'whom', 'days', 'soon', 'mrs.', 'met', 'yourself', 'certainly', 'point', 'minutes', 'lord', 'police', 'passed', 'work', 'many', 'large', 'money', 'hat', 'papers', 'set', 'under', 'baker', 'clear', 'call', 'pray', 'another', 'sure', 'looking', 'lay', 'gone', 'fire', 'table', 'whether', 'wish', 'help', 'life', 'hair', 'whole', 'home', 'gentleman', 'thing', 'being', 'possible', 'words', 'both', 'strange', 'gave', 'suddenly', 'also', 'already', 'leave', 'within', ':', 'understand', 'behind', 'black', 'anything', 'told', 'hardly', 'better', 'front', 'brought', 'son', 'looked', 'against', 'really', 'turned', 'place', 'end', 'got', 'enough', 'far', 'sat', 'chair', 'same', 'answered', 'dear', 'wife', 'always', 'knew', 'mind', 'between', 'course', 'give', 'great', 'name', 'indeed', 'open', 'perhaps', 'though', 'get', 'doubt', 'rather', 'again', 'remarked', 'years', 'something', 'hands', 'while', 'those', 'done', 'woman', 'head', 'business', 'old', 'window', 'cried', 'went', 'seemed', 'having', 'put', 'three', 'seen', 'ever', 'even', 'let', 'sir', 'look', 'off', 'himself', 'light', 'without', 'make', 'myself', 'night', 'until', 'street', 'few', 'why', 'thought', 'take', 'friend', 'lady', 'side', 'small', 'still', 'these', 'find', 'st.', 'every', 'watson', 'too', 'round', 'young', 'father', 'left', 'day', 'yet', 'first', 'once', 'took', 'its', 'eyes', 'long', 'miss', 'through', 'asked', 'most', 'saw', 'oh', 'morning', 'right', 'last', 'like', 'say', 'tell', 't', 'sherlock', 'their', 'go', 'own', 'after', 'away', 'never', 'good', 'nothing', 'case', 'however', 'quite', 'found', 'made', 'house', 'such', 'heard', 'way', 'yes', 'hand', 'much', 'matter', 'where', 'might', 'just', 'room', 'any', 'face', 'here', 'back', 'door', 'how', 'them', 'two', 'other', 'came', 'time', 'did', 'than', 'come', 'before', 'must', 'only', 'know', 'about', 'shall', 'think', 'more', 'over', 'us', 'well', 'am', 'or', 'may', 'they', ';', 'our', 'should', 'now', 'see', 'down', 'can', 'some', 'if', 'will', 'mr.', 'little', 'who', 'into', 'do', 'has', 'could', 'up', 'man', 'out', 'when', 'would', 'an', 'are', 'by', '!', 'were', 's', 'then', 'one', 'all', 'on', 'no', 'what', 'been', 'your', 'very', 'him', 'her', 'she', 'so', '‘', 'holmes', 'upon', 'this', 'said', 'from', 'there', 'we', 'me', 'be', 'but', 'not', 'for', '?', 'at', 'which', 'with', 'had', 'as', 'have', 'my', '’', 'is', 'his', 'was', 'you', 'he', 'it', 'that', 'in', '”', 'a', 'of', 'to', '“', 'and', 'i', '.', 'the', ',']\n",
      "452\n"
     ]
    }
   ],
   "source": [
    "text = read_text_file(\"data/sherlock_holmes.txt\")\n",
    "stopwords = compile_stopwords_list_frequency(text, cut_off=0.05)\n",
    "print(stopwords)\n",
    "print(len(stopwords))"
   ]
  },
  {
   "cell_type": "code",
   "execution_count": 99,
   "id": "6ccd9a01",
   "metadata": {},
   "outputs": [
    {
     "name": "stdout",
     "output_type": "stream",
     "text": [
      "['away', 'never', 'good', 'nothing', 'case', 'however', 'quite', 'found', 'made', 'house', 'such', 'heard', 'way', 'yes', 'hand', 'much', 'matter', 'where', 'might', 'just', 'room', 'any', 'face', 'here', 'back', 'door', 'how', 'them', 'two', 'other', 'came', 'time', 'did', 'than', 'come', 'before', 'must', 'only', 'know', 'about', 'shall', 'think', 'more', 'over', 'us', 'well', 'am', 'or', 'may', 'they', ';', 'our', 'should', 'now', 'see', 'down', 'can', 'some', 'if', 'will', 'mr.', 'little', 'who', 'into', 'do', 'has', 'could', 'up', 'man', 'out', 'when', 'would', 'an', 'are', 'by', '!', 'were', 's', 'then', 'one', 'all', 'on', 'no', 'what', 'been', 'your', 'very', 'him', 'her', 'she', 'so', '‘', 'holmes', 'upon', 'this', 'said', 'from', 'there', 'we', 'me', 'be', 'but', 'not', 'for', '?', 'at', 'which', 'with', 'had', 'as', 'have', 'my', '’', 'is', 'his', 'was', 'you', 'he', 'it', 'that', 'in', '”', 'a', 'of', 'to', '“', 'and', 'i', '.', 'the', ',']\n",
      "131\n"
     ]
    }
   ],
   "source": [
    "stopwords = compile_stopwords_list_frequency(text, cut_off=100)\n",
    "print(stopwords)\n",
    "print(len(stopwords))"
   ]
  },
  {
   "cell_type": "code",
   "execution_count": null,
   "id": "d1faa6ff",
   "metadata": {},
   "outputs": [],
   "source": []
  }
 ],
 "metadata": {
  "kernelspec": {
   "display_name": "Python 3 (ipykernel)",
   "language": "python",
   "name": "python3"
  },
  "language_info": {
   "codemirror_mode": {
    "name": "ipython",
    "version": 3
   },
   "file_extension": ".py",
   "mimetype": "text/x-python",
   "name": "python",
   "nbconvert_exporter": "python",
   "pygments_lexer": "ipython3",
   "version": "3.10.6"
  }
 },
 "nbformat": 4,
 "nbformat_minor": 5
}
