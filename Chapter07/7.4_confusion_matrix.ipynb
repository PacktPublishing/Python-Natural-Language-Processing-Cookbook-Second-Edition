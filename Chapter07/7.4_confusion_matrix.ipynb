{
 "cells": [
  {
   "cell_type": "code",
   "execution_count": 17,
   "id": "6549d8f7-8ddb-4030-9638-46e4d586936e",
   "metadata": {},
   "outputs": [],
   "source": [
    "from sklearn.svm import SVC\n",
    "from sentence_transformers import SentenceTransformer\n",
    "from sklearn.metrics import confusion_matrix\n",
    "import matplotlib.pyplot as plt\n",
    "from sklearn.metrics import ConfusionMatrixDisplay"
   ]
  },
  {
   "cell_type": "code",
   "execution_count": 2,
   "id": "1ca7628b-272c-4948-8bd3-e5144b5a6636",
   "metadata": {},
   "outputs": [],
   "source": [
    "%run -i \"../util/util_simple_classifier.ipynb\""
   ]
  },
  {
   "cell_type": "code",
   "execution_count": 3,
   "id": "284c0c89-1f9d-40e7-a66e-c68d180eae1c",
   "metadata": {},
   "outputs": [
    {
     "data": {
      "text/html": [
       "<div>\n",
       "<style scoped>\n",
       "    .dataframe tbody tr th:only-of-type {\n",
       "        vertical-align: middle;\n",
       "    }\n",
       "\n",
       "    .dataframe tbody tr th {\n",
       "        vertical-align: top;\n",
       "    }\n",
       "\n",
       "    .dataframe thead th {\n",
       "        text-align: right;\n",
       "    }\n",
       "</style>\n",
       "<table border=\"1\" class=\"dataframe\">\n",
       "  <thead>\n",
       "    <tr style=\"text-align: right;\">\n",
       "      <th></th>\n",
       "      <th>text</th>\n",
       "      <th>label</th>\n",
       "      <th>label_text</th>\n",
       "      <th>text_tokenized</th>\n",
       "      <th>text_clean</th>\n",
       "    </tr>\n",
       "  </thead>\n",
       "  <tbody>\n",
       "    <tr>\n",
       "      <th>1825</th>\n",
       "      <td>brookside actress keaveney dies actress anna k...</td>\n",
       "      <td>3</td>\n",
       "      <td>entertainment</td>\n",
       "      <td>[brookside, actress, keaveney, dies, actress, ...</td>\n",
       "      <td>brookside actress keaveney dies actress anna k...</td>\n",
       "    </tr>\n",
       "    <tr>\n",
       "      <th>1703</th>\n",
       "      <td>wal-mart is sued over rude lyrics the parents ...</td>\n",
       "      <td>3</td>\n",
       "      <td>entertainment</td>\n",
       "      <td>[wal-mart, sued, rude, lyrics, parents, 13-yea...</td>\n",
       "      <td>wal-mart sued rude lyrics parents 13-year-old ...</td>\n",
       "    </tr>\n",
       "    <tr>\n",
       "      <th>269</th>\n",
       "      <td>roddick to face saulnier in final andy roddick...</td>\n",
       "      <td>2</td>\n",
       "      <td>sport</td>\n",
       "      <td>[roddick, face, saulnier, final, andy, roddick...</td>\n",
       "      <td>roddick face saulnier final andy roddick play ...</td>\n",
       "    </tr>\n",
       "    <tr>\n",
       "      <th>17</th>\n",
       "      <td>playstation 3 processor unveiled the cell proc...</td>\n",
       "      <td>0</td>\n",
       "      <td>tech</td>\n",
       "      <td>[playstation, 3, processor, unveiled, cell, pr...</td>\n",
       "      <td>playstation 3 processor unveiled cell processo...</td>\n",
       "    </tr>\n",
       "    <tr>\n",
       "      <th>1435</th>\n",
       "      <td>downloads enter us singles chart digital music...</td>\n",
       "      <td>3</td>\n",
       "      <td>entertainment</td>\n",
       "      <td>[downloads, enter, us, singles, chart, digital...</td>\n",
       "      <td>downloads enter us singles chart digital music...</td>\n",
       "    </tr>\n",
       "    <tr>\n",
       "      <th>...</th>\n",
       "      <td>...</td>\n",
       "      <td>...</td>\n",
       "      <td>...</td>\n",
       "      <td>...</td>\n",
       "      <td>...</td>\n",
       "    </tr>\n",
       "    <tr>\n",
       "      <th>86</th>\n",
       "      <td>text message record smashed uk mobile owners c...</td>\n",
       "      <td>0</td>\n",
       "      <td>tech</td>\n",
       "      <td>[text, message, record, smashed, uk, mobile, o...</td>\n",
       "      <td>text message record smashed uk mobile owners c...</td>\n",
       "    </tr>\n",
       "    <tr>\n",
       "      <th>1773</th>\n",
       "      <td>more women turn to net security older people a...</td>\n",
       "      <td>0</td>\n",
       "      <td>tech</td>\n",
       "      <td>[women, turn, net, security, older, people, wo...</td>\n",
       "      <td>women turn net security older people women inc...</td>\n",
       "    </tr>\n",
       "    <tr>\n",
       "      <th>1190</th>\n",
       "      <td>media gadgets get moving pocket-sized devices ...</td>\n",
       "      <td>0</td>\n",
       "      <td>tech</td>\n",
       "      <td>[media, gadgets, get, moving, pocket-sized, de...</td>\n",
       "      <td>media gadgets get moving pocket-sized devices ...</td>\n",
       "    </tr>\n",
       "    <tr>\n",
       "      <th>1659</th>\n",
       "      <td>gervais writing simpsons episode the office s ...</td>\n",
       "      <td>3</td>\n",
       "      <td>entertainment</td>\n",
       "      <td>[gervais, writing, simpsons, episode, office, ...</td>\n",
       "      <td>gervais writing simpsons episode office ricky ...</td>\n",
       "    </tr>\n",
       "    <tr>\n",
       "      <th>1716</th>\n",
       "      <td>iraq and afghanistan in wto talks the world tr...</td>\n",
       "      <td>1</td>\n",
       "      <td>business</td>\n",
       "      <td>[iraq, afghanistan, wto, talks, world, trade, ...</td>\n",
       "      <td>iraq afghanistan wto talks world trade organis...</td>\n",
       "    </tr>\n",
       "  </tbody>\n",
       "</table>\n",
       "<p>1780 rows × 5 columns</p>\n",
       "</div>"
      ],
      "text/plain": [
       "                                                   text  label     label_text  \\\n",
       "1825  brookside actress keaveney dies actress anna k...      3  entertainment   \n",
       "1703  wal-mart is sued over rude lyrics the parents ...      3  entertainment   \n",
       "269   roddick to face saulnier in final andy roddick...      2          sport   \n",
       "17    playstation 3 processor unveiled the cell proc...      0           tech   \n",
       "1435  downloads enter us singles chart digital music...      3  entertainment   \n",
       "...                                                 ...    ...            ...   \n",
       "86    text message record smashed uk mobile owners c...      0           tech   \n",
       "1773  more women turn to net security older people a...      0           tech   \n",
       "1190  media gadgets get moving pocket-sized devices ...      0           tech   \n",
       "1659  gervais writing simpsons episode the office s ...      3  entertainment   \n",
       "1716  iraq and afghanistan in wto talks the world tr...      1       business   \n",
       "\n",
       "                                         text_tokenized  \\\n",
       "1825  [brookside, actress, keaveney, dies, actress, ...   \n",
       "1703  [wal-mart, sued, rude, lyrics, parents, 13-yea...   \n",
       "269   [roddick, face, saulnier, final, andy, roddick...   \n",
       "17    [playstation, 3, processor, unveiled, cell, pr...   \n",
       "1435  [downloads, enter, us, singles, chart, digital...   \n",
       "...                                                 ...   \n",
       "86    [text, message, record, smashed, uk, mobile, o...   \n",
       "1773  [women, turn, net, security, older, people, wo...   \n",
       "1190  [media, gadgets, get, moving, pocket-sized, de...   \n",
       "1659  [gervais, writing, simpsons, episode, office, ...   \n",
       "1716  [iraq, afghanistan, wto, talks, world, trade, ...   \n",
       "\n",
       "                                             text_clean  \n",
       "1825  brookside actress keaveney dies actress anna k...  \n",
       "1703  wal-mart sued rude lyrics parents 13-year-old ...  \n",
       "269   roddick face saulnier final andy roddick play ...  \n",
       "17    playstation 3 processor unveiled cell processo...  \n",
       "1435  downloads enter us singles chart digital music...  \n",
       "...                                                 ...  \n",
       "86    text message record smashed uk mobile owners c...  \n",
       "1773  women turn net security older people women inc...  \n",
       "1190  media gadgets get moving pocket-sized devices ...  \n",
       "1659  gervais writing simpsons episode office ricky ...  \n",
       "1716  iraq afghanistan wto talks world trade organis...  \n",
       "\n",
       "[1780 rows x 5 columns]"
      ]
     },
     "execution_count": 3,
     "metadata": {},
     "output_type": "execute_result"
    }
   ],
   "source": [
    "# Same as 4.4\n",
    "train_df = pd.read_json(\"../data/bbc_train.json\")\n",
    "test_df = pd.read_json(\"../data/bbc_test.json\")\n",
    "train_df.sample(frac=1)"
   ]
  },
  {
   "cell_type": "code",
   "execution_count": 4,
   "id": "b620a9b4-f088-4e41-8a77-4fb460a41893",
   "metadata": {},
   "outputs": [],
   "source": [
    "model = SentenceTransformer('all-MiniLM-L6-v2')\n",
    "def get_sentence_vector(text, model):\n",
    "    sentence_embeddings = model.encode([text])\n",
    "    return sentence_embeddings[0]"
   ]
  },
  {
   "cell_type": "code",
   "execution_count": 5,
   "id": "fc1697dd-9161-4ccb-9cf2-b65a73a81f72",
   "metadata": {},
   "outputs": [],
   "source": [
    "def train_classifier(X_train, y_train):\n",
    "    clf = SVC(C=0.1, kernel='rbf')\n",
    "    clf = clf.fit(X_train, y_train)\n",
    "    return clf"
   ]
  },
  {
   "cell_type": "code",
   "execution_count": 6,
   "id": "871e3ba5-56b9-415d-ba69-2044a5da3130",
   "metadata": {},
   "outputs": [
    {
     "name": "stdout",
     "output_type": "stream",
     "text": [
      "               precision    recall  f1-score   support\n",
      "\n",
      "         tech       1.00      1.00      1.00       321\n",
      "     business       1.00      1.00      1.00       408\n",
      "        sport       1.00      1.00      1.00       409\n",
      "entertainment       1.00      1.00      1.00       309\n",
      "     politics       1.00      1.00      1.00       333\n",
      "\n",
      "     accuracy                           1.00      1780\n",
      "    macro avg       1.00      1.00      1.00      1780\n",
      " weighted avg       1.00      1.00      1.00      1780\n",
      "\n",
      "               precision    recall  f1-score   support\n",
      "\n",
      "         tech       0.97      0.95      0.96        80\n",
      "     business       0.98      0.97      0.98       102\n",
      "        sport       0.98      1.00      0.99       102\n",
      "entertainment       0.96      0.99      0.97        77\n",
      "     politics       0.98      0.96      0.97        84\n",
      "\n",
      "     accuracy                           0.98       445\n",
      "    macro avg       0.97      0.97      0.97       445\n",
      " weighted avg       0.98      0.98      0.98       445\n",
      "\n"
     ]
    }
   ],
   "source": [
    "target_names=[\"tech\", \"business\", \"sport\", \"entertainment\", \"politics\"]\n",
    "vectorize = lambda x: get_sentence_vector(x, model)\n",
    "(X_train, X_test, y_train, y_test) = create_train_test_data(train_df, test_df, vectorize, column_name=\"text_clean\")\n",
    "clf = train_classifier(X_train, y_train)\n",
    "print(classification_report(train_df[\"label\"], y_train, target_names=target_names))\n",
    "test_classifier(test_df, clf, target_names=target_names)"
   ]
  },
  {
   "cell_type": "code",
   "execution_count": 20,
   "id": "dc6c3521-e6ee-47dc-9f2d-0ef9abe7efd8",
   "metadata": {},
   "outputs": [],
   "source": [
    "num_to_text_mapping = {0:\"tech\", 1:\"business\", 2:\"sport\", 3:\"entertainment\", 4:\"politics\"}\n",
    "test_df[\"pred_label\"] = test_df[\"prediction\"].apply(lambda x: num_to_text_mapping[x])"
   ]
  },
  {
   "cell_type": "code",
   "execution_count": 19,
   "id": "f1abf63a-53e8-4abd-9908-d0029e54744d",
   "metadata": {},
   "outputs": [
    {
     "data": {
      "image/png": "[encoded data removed]",
      "text/plain": [
       "<Figure size 640x480 with 2 Axes>"
      ]
     },
     "metadata": {},
     "output_type": "display_data"
    }
   ],
   "source": [
    "cm = confusion_matrix(test_df[\"label_text\"], test_df[\"pred_label\"], labels=target_names)\n",
    "disp = ConfusionMatrixDisplay(confusion_matrix=cm, display_labels=target_names)\n",
    "disp.plot()\n",
    "plt.show()"
   ]
  },
  {
   "cell_type": "code",
   "execution_count": null,
   "id": "af30b607-f429-44be-aea0-4971c3fac8ac",
   "metadata": {},
   "outputs": [],
   "source": []
  }
 ],
 "metadata": {
  "kernelspec": {
   "display_name": "Python 3 (ipykernel)",
   "language": "python",
   "name": "python3"
  },
  "language_info": {
   "codemirror_mode": {
    "name": "ipython",
    "version": 3
   },
   "file_extension": ".py",
   "mimetype": "text/x-python",
   "name": "python",
   "nbconvert_exporter": "python",
   "pygments_lexer": "ipython3",
   "version": "3.10.12"
  }
 },
 "nbformat": 4,
 "nbformat_minor": 5
}
