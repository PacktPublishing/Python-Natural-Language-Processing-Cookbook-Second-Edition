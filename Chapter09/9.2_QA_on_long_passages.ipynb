{
 "cells": [
  {
   "cell_type": "code",
   "execution_count": null,
   "id": "951d3a4f-fc45-4d82-8393-1f4f22ae08c3",
   "metadata": {},
   "outputs": [],
   "source": [
    "# Install Deep Pavlov and the dependent modules\n",
    "!python -m deeppavlov install en_odqa_infer_wiki"
   ]
  },
  {
   "cell_type": "code",
   "execution_count": null,
   "id": "86d10b12-c50e-418f-b202-6519e2ff6355",
   "metadata": {},
   "outputs": [],
   "source": [
    "from deeppavlov import build_model\n",
    "\n",
    "odqa = build_model('en_odqa_infer_wiki', download=True)\n",
    "result = odqa(['What is the name of the Doctor in Star Trek?'])\n",
    "print(result)"
   ]
  }
 ],
 "metadata": {
  "kernelspec": {
   "display_name": "chapter09",
   "language": "python",
   "name": "chapter09"
  },
  "language_info": {
   "codemirror_mode": {
    "name": "ipython",
    "version": 3
   },
   "file_extension": ".py",
   "mimetype": "text/x-python",
   "name": "python",
   "nbconvert_exporter": "python",
   "pygments_lexer": "ipython3",
   "version": "3.10.12"
  }
 },
 "nbformat": 4,
 "nbformat_minor": 5
}
