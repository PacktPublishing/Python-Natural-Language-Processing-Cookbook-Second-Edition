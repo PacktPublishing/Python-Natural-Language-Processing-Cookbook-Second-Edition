{
 "cells": [
  {
   "cell_type": "code",
   "execution_count": 1,
   "id": "838f8252-2136-41de-81d8-8ab6ef197c73",
   "metadata": {},
   "outputs": [
    {
     "name": "stderr",
     "output_type": "stream",
     "text": [
      "/home/saurabh/venvs/torchgpu/lib/python3.10/site-packages/tqdm/auto.py:21: TqdmWarning: IProgress not found. Please update jupyter and ipywidgets. See https://ipywidgets.readthedocs.io/en/stable/user_install.html\n",
      "  from .autonotebook import tqdm as notebook_tqdm\n"
     ]
    }
   ],
   "source": [
    "import torch\n",
    "from transformers import T5Tokenizer, T5ForConditionalGeneration"
   ]
  },
  {
   "cell_type": "code",
   "execution_count": 2,
   "id": "0dd65569-829d-4343-b6bc-7eea38a77fa4",
   "metadata": {},
   "outputs": [
    {
     "name": "stderr",
     "output_type": "stream",
     "text": [
      "Downloading tokenizer.json: 100%|██████████████████████████████████████████████████████████████████████████████████████████████████████████████████████████████████████| 1.39M/1.39M [00:00<00:00, 7.12MB/s]\n",
      "Special tokens have been added in the vocabulary, make sure the associated word embeddings are fine-tuned or trained.\n"
     ]
    }
   ],
   "source": [
    "device = torch.device(\"cuda\" if torch.cuda.is_available() else \"cpu\")       \n",
    "tokenizer = T5Tokenizer.from_pretrained('t5-small', legacy=False, device=device)\n",
    "model = T5ForConditionalGeneration.from_pretrained('t5-small', return_dict=True, device_map=device)"
   ]
  },
  {
   "cell_type": "code",
   "execution_count": 3,
   "id": "8b0c370d-4943-4db3-9a4a-41deb604ff4e",
   "metadata": {},
   "outputs": [],
   "source": [
    "premise = \"The corner coffee shop serves the most awesome coffee I have ever had.\"\n",
    "hypothesis = \"I love the coffee served by the corner coffee shop.\""
   ]
  },
  {
   "cell_type": "code",
   "execution_count": 4,
   "id": "51200ab1-f3c7-4ebd-958d-35f16aef2deb",
   "metadata": {},
   "outputs": [],
   "source": [
    "input_ids = tokenizer(\"mnli premise: \" + premise + \" hypothesis: \" + hypothesis, return_tensors=\"pt\").input_ids\n",
    "entailment_ids = model.generate(input_ids.to(device), max_new_tokens=20)"
   ]
  },
  {
   "cell_type": "code",
   "execution_count": 5,
   "id": "32e287e3-a5f8-4735-8f94-50dc5d886d29",
   "metadata": {},
   "outputs": [
    {
     "name": "stdout",
     "output_type": "stream",
     "text": [
      "entailment\n"
     ]
    }
   ],
   "source": [
    "prediction = tokenizer.decode(entailment_ids[0], skip_special_tokens=True, device=device)\n",
    "print(prediction)"
   ]
  },
  {
   "cell_type": "code",
   "execution_count": null,
   "id": "989ab9be-dabe-4142-831f-25f62320a5fc",
   "metadata": {},
   "outputs": [],
   "source": []
  },
  {
   "cell_type": "code",
   "execution_count": null,
   "id": "add745e8-24b4-4abc-8f95-6d7b7636568a",
   "metadata": {},
   "outputs": [],
   "source": []
  },
  {
   "cell_type": "code",
   "execution_count": null,
   "id": "bf0aae12-cdfb-473f-99a4-71e3997a4786",
   "metadata": {},
   "outputs": [],
   "source": []
  },
  {
   "cell_type": "code",
   "execution_count": null,
   "id": "5fd9e165-c61c-477e-aeeb-5bac36e1fa8c",
   "metadata": {},
   "outputs": [],
   "source": []
  },
  {
   "cell_type": "code",
   "execution_count": null,
   "id": "56c26377-d209-442d-83d8-8ed4ff454915",
   "metadata": {},
   "outputs": [],
   "source": []
  }
 ],
 "metadata": {
  "kernelspec": {
   "display_name": "torchgpu",
   "language": "python",
   "name": "torchgpu"
  },
  "language_info": {
   "codemirror_mode": {
    "name": "ipython",
    "version": 3
   },
   "file_extension": ".py",
   "mimetype": "text/x-python",
   "name": "python",
   "nbconvert_exporter": "python",
   "pygments_lexer": "ipython3",
   "version": "3.10.12"
  }
 },
 "nbformat": 4,
 "nbformat_minor": 5
}
