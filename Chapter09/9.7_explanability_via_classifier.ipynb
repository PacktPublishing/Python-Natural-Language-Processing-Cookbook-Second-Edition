{
 "cells": [
  {
   "cell_type": "code",
   "execution_count": 1,
   "id": "f6752ef7-6dd1-405f-90db-0af605503674",
   "metadata": {},
   "outputs": [
    {
     "name": "stderr",
     "output_type": "stream",
     "text": [
      "/home/saurabh/venvs/torchgpu/lib/python3.10/site-packages/tqdm/auto.py:21: TqdmWarning: IProgress not found. Please update jupyter and ipywidgets. See https://ipywidgets.readthedocs.io/en/stable/user_install.html\n",
      "  from .autonotebook import tqdm as notebook_tqdm\n"
     ]
    }
   ],
   "source": [
    "import numpy as np\n",
    "import torch\n",
    "\n",
    "from lime.lime_text import LimeTextExplainer\n",
    "from transformers import pipeline"
   ]
  },
  {
   "cell_type": "code",
   "execution_count": 2,
   "id": "64eccd8f-5643-42e9-8164-abd9dff7df34",
   "metadata": {},
   "outputs": [],
   "source": [
    "device = torch.device(\"cuda\" if torch.cuda.is_available() else \"cpu\")\n",
    "roberta_pipe = pipeline(\n",
    "    \"sentiment-analysis\",\n",
    "    model=\"siebert/sentiment-roberta-large-english\",\n",
    "    tokenizer=\"siebert/sentiment-roberta-large-english\",\n",
    "    top_k=1,\n",
    "    device=device\n",
    ")"
   ]
  },
  {
   "cell_type": "code",
   "execution_count": 3,
   "id": "7420444b-2733-4594-b698-68c8681a01b4",
   "metadata": {},
   "outputs": [],
   "source": [
    "sample_text = \"I really liked the Oppenheimer movie and found it truly entertaining and full of substance.\"\n",
    "np.set_printoptions(suppress = True,\n",
    "   formatter = {'float_kind':'{:f}'.format}, precision = 2)"
   ]
  },
  {
   "cell_type": "code",
   "execution_count": 4,
   "id": "58c9082f-e090-4677-8b88-4cfd229b56d6",
   "metadata": {},
   "outputs": [],
   "source": [
    "def predict_prob(texts):\n",
    "    preds = roberta_pipe(texts)\n",
    "    preds = np.array([[label[0]['score'], 1 - label[0]['score']] if label[0]['label'] == 'NEGATIVE'\n",
    "                      else [1 - label[0]['score'], label[0]['score']] for label in preds])\n",
    "    return preds"
   ]
  },
  {
   "cell_type": "code",
   "execution_count": 5,
   "id": "66cb4e1c-41c6-48a7-b4be-5771d5bfa200",
   "metadata": {},
   "outputs": [],
   "source": [
    "explainer = LimeTextExplainer(class_names=['NEGATIVE', 'POSITIVE'])\n",
    "exp = explainer.explain_instance(text_instance=sample_text,\n",
    "                                 classifier_fn=predict_prob)"
   ]
  },
  {
   "cell_type": "code",
   "execution_count": 6,
   "id": "c5609a4d-c668-49fb-a6f4-3c1057a1e983",
   "metadata": {},
   "outputs": [
    {
     "name": "stdout",
     "output_type": "stream",
     "text": [
      "[[0.001083 0.998917]]\n"
     ]
    }
   ],
   "source": [
    "original_prediction = predict_prob(sample_text)\n",
    "print(original_prediction)"
   ]
  },
  {
   "cell_type": "code",
   "execution_count": 7,
   "id": "dd3ee8dd-5478-4807-9171-bb16db0a7be8",
   "metadata": {},
   "outputs": [
    {
     "name": "stdout",
     "output_type": "stream",
     "text": [
      "[['entertaining' '0.02324313634539364']\n",
      " ['liked' '0.021720990278725042']\n",
      " ['and' '0.018245235697928647']\n",
      " ['truly' '0.017765791161630226']\n",
      " ['substance' '0.014841506222376703']\n",
      " ['Oppenheimer' '-0.010981793436361903']\n",
      " ['of' '-0.009783568460385427']\n",
      " ['found' '0.006399394452398886']\n",
      " ['movie' '0.006374361410402638']\n",
      " ['it' '0.004353281434411829']]\n"
     ]
    }
   ],
   "source": [
    "print(np.array(exp.as_list()))"
   ]
  },
  {
   "cell_type": "code",
   "execution_count": 8,
   "id": "f4637654-f005-43d3-b13d-8afae0768860",
   "metadata": {},
   "outputs": [],
   "source": [
    "modified_text = \"I found the Oppenheimer movie very slow, boring and veering on being too scientific.\""
   ]
  },
  {
   "cell_type": "code",
   "execution_count": 9,
   "id": "d273dfaa-60bc-49dc-8dde-f1d5e1165090",
   "metadata": {},
   "outputs": [
    {
     "name": "stdout",
     "output_type": "stream",
     "text": [
      "[[0.999501 0.000499]]\n"
     ]
    }
   ],
   "source": [
    "new_prediction = predict_prob(modified_text)\n",
    "print(new_prediction)"
   ]
  },
  {
   "cell_type": "code",
   "execution_count": 10,
   "id": "069dd5c0-350d-4bb3-a416-c8d3c98d26e9",
   "metadata": {},
   "outputs": [
    {
     "name": "stdout",
     "output_type": "stream",
     "text": [
      "[['boring' '-0.14367020927227456']\n",
      " ['slow' '-0.13916208713739314']\n",
      " ['too' '-0.08752756409615216']\n",
      " ['veering' '-0.05178532169530207']\n",
      " ['and' '0.020763893842961647']\n",
      " ['Oppenheimer' '-0.015812617921760013']\n",
      " ['scientific' '-0.009930259179443747']\n",
      " ['being' '-0.009781979229833508']\n",
      " ['very' '0.008015557326137967']\n",
      " ['on' '0.007369245549495149']]\n"
     ]
    }
   ],
   "source": [
    "exp = explainer.explain_instance(text_instance=modified_text,\n",
    "                                 classifier_fn=predict_prob)\n",
    "print(np.array(exp.as_list()))"
   ]
  },
  {
   "cell_type": "code",
   "execution_count": null,
   "id": "f19ac805-0807-4a50-9965-168a77fb81cb",
   "metadata": {},
   "outputs": [],
   "source": []
  }
 ],
 "metadata": {
  "kernelspec": {
   "display_name": "torchgpu",
   "language": "python",
   "name": "torchgpu"
  },
  "language_info": {
   "codemirror_mode": {
    "name": "ipython",
    "version": 3
   },
   "file_extension": ".py",
   "mimetype": "text/x-python",
   "name": "python",
   "nbconvert_exporter": "python",
   "pygments_lexer": "ipython3",
   "version": "3.10.12"
  }
 },
 "nbformat": 4,
 "nbformat_minor": 5
}
