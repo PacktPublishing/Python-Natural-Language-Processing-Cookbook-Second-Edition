{
 "cells": [
  {
   "cell_type": "code",
   "execution_count": 1,
   "id": "24326bfc-3ec0-4efd-9c9b-cd8bb00608a0",
   "metadata": {},
   "outputs": [],
   "source": [
    "%run -i \"../util/lang_utils.ipynb\""
   ]
  },
  {
   "cell_type": "code",
   "execution_count": 2,
   "id": "845abbda-1c9b-4c61-8250-8aa4be058632",
   "metadata": {},
   "outputs": [],
   "source": [
    "from datasets import load_dataset, Dataset, Features, Value, ClassLabel, Sequence, DatasetDict\n",
    "import pandas as pd\n",
    "from transformers import AutoTokenizer, AutoModel\n",
    "from transformers import DataCollatorForTokenClassification\n",
    "from transformers import AutoModelForTokenClassification, TrainingArguments, Trainer\n",
    "import numpy as np\n",
    "from sklearn.model_selection import train_test_split\n",
    "from evaluate import load"
   ]
  },
  {
   "cell_type": "code",
   "execution_count": 3,
   "id": "a0fd4c34-111e-4174-9aaf-050676b43657",
   "metadata": {},
   "outputs": [
    {
     "name": "stdout",
     "output_type": "stream",
     "text": [
      "        id                                               text  start_offset  \\\n",
      "0    13434  i love radioheads kid a something similar , ki...             7   \n",
      "1    13434  i love radioheads kid a something similar , ki...            61   \n",
      "2    13435                anything similar to i fight dragons            20   \n",
      "3    13436                music similar to ccrs travelin band            17   \n",
      "4    13437                 songs similar to blackout by boris            17   \n",
      "..     ...                                                ...           ...   \n",
      "422  14028  songs like good news by mac miller , preferrab...            11   \n",
      "423  14028  songs like good news by mac miller , preferrab...            24   \n",
      "424  14030  something along the lines of either the chain ...            49   \n",
      "425  14030  something along the lines of either the chain ...            29   \n",
      "426  14032       heavy bass x gothic rap like oxygen by bones            29   \n",
      "\n",
      "     end_offset          label  \n",
      "0            17   Artist_known  \n",
      "1            71  Artist_or_WoA  \n",
      "2            35            WoA  \n",
      "3            30         Artist  \n",
      "4            25            WoA  \n",
      "..          ...            ...  \n",
      "422          20            WoA  \n",
      "423          34         Artist  \n",
      "424          60  Artist_or_WoA  \n",
      "425          45  Artist_or_WoA  \n",
      "426          44  Artist_or_WoA  \n",
      "\n",
      "[427 rows x 5 columns]\n"
     ]
    }
   ],
   "source": [
    "music_ner_df = pd.read_csv('../data/music_ner.csv')\n",
    "def change_label(input_label):\n",
    "    input_label = input_label.replace(\"_deduced\", \"\")\n",
    "    return input_label\n",
    "music_ner_df[\"label\"] = music_ner_df[\"label\"].apply(change_label)\n",
    "music_ner_df[\"text\"] = music_ner_df[\"text\"].apply(lambda x: x.replace(\"|\", \",\"))\n",
    "print(music_ner_df)"
   ]
  },
  {
   "cell_type": "code",
   "execution_count": 4,
   "id": "522624bd-8ba1-4c02-a282-995c7e34d5f4",
   "metadata": {},
   "outputs": [],
   "source": [
    "ids = list(set(music_ner_df[\"id\"].values))\n",
    "docs = {}\n",
    "for id in ids:\n",
    "    entity_rows = music_ner_df.loc[music_ner_df['id'] == id]\n",
    "    text = entity_rows.head(1)[\"text\"].values[0]\n",
    "    doc = small_model(text)\n",
    "    ents = []\n",
    "    for index, row in entity_rows.iterrows():\n",
    "        label = row[\"label\"]\n",
    "        start = row[\"start_offset\"]\n",
    "        end = row[\"end_offset\"]\n",
    "        span = doc.char_span(start, end, label=label, alignment_mode=\"contract\")\n",
    "        ents.append(span)\n",
    "    doc.ents = ents\n",
    "    docs[doc.text] = doc"
   ]
  },
  {
   "cell_type": "code",
   "execution_count": 5,
   "id": "8a130f12-e3f6-472d-81bb-477fd67d2f65",
   "metadata": {},
   "outputs": [],
   "source": [
    "data_file = \"../data/music_ner_bio.bio\"\n",
    "tag_mapping = {\"O\": 0, \"B-Artist\": 1, \"I-Artist\": 2, \"B-WoA\": 3, \"I-WoA\": 4}\n",
    "with open(data_file) as f:\n",
    "    data = f.read()\n",
    "tokens = []\n",
    "ner_tags = []\n",
    "spans = []\n",
    "sentences = data.split(\"\\n\\n\")\n",
    "for sentence in sentences:\n",
    "    words = []\n",
    "    tags = []\n",
    "    this_sentence_spans = []\n",
    "    word_tag_pairs = sentence.split(\"\\n\")\n",
    "    for pair in word_tag_pairs:\n",
    "        (word, tag) = pair.split(\"\\t\")\n",
    "        words.append(word)\n",
    "        tags.append(tag_mapping[tag])\n",
    "    sentence_text = \" \".join(words)\n",
    "    try:\n",
    "        doc = docs[sentence_text]\n",
    "    except:\n",
    "        pass\n",
    "    ent_dict = {}\n",
    "    for ent in doc.ents:\n",
    "        this_sentence_spans.append(f\"{ent.label_}: {ent.text}\")\n",
    "    tokens.append(words)\n",
    "    ner_tags.append(tags)\n",
    "    spans.append(this_sentence_spans)\n"
   ]
  },
  {
   "cell_type": "code",
   "execution_count": 6,
   "id": "81b9adb8-42d9-4e1b-a536-cfbbf52a1931",
   "metadata": {},
   "outputs": [
    {
     "name": "stdout",
     "output_type": "stream",
     "text": [
      "539\n",
      "60\n"
     ]
    }
   ],
   "source": [
    "indices = range(0, len(spans))\n",
    "train, test = train_test_split(indices, test_size=0.1)\n",
    "train_tokens = []\n",
    "test_tokens = []\n",
    "train_ner_tags = []\n",
    "test_ner_tags = []\n",
    "train_spans = []\n",
    "test_spans = []\n",
    "for i, (token, ner_tag, span) in enumerate(zip(tokens, ner_tags, spans)):\n",
    "    if i in train:\n",
    "        train_tokens.append(token)\n",
    "        train_ner_tags.append(ner_tag)\n",
    "        train_spans.append(span)\n",
    "    else:\n",
    "        test_tokens.append(token)\n",
    "        test_ner_tags.append(ner_tag)\n",
    "        test_spans.append(span)        \n",
    "        \n",
    "print(len(train_spans))\n",
    "print(len(test_spans))"
   ]
  },
  {
   "cell_type": "code",
   "execution_count": 7,
   "id": "afaf9488-01a0-45ee-967c-6f283d717bdf",
   "metadata": {},
   "outputs": [
    {
     "name": "stdout",
     "output_type": "stream",
     "text": [
      "                                               tokens  \\\n",
      "0   [i, love, radioheads, kid, a, something, simil...   \n",
      "1   [bluesy, songs, kinda, like, evil, woman, by, ...   \n",
      "2                       [music, for, a, 1920s, party]   \n",
      "3   [similar, to, 6, underground, by, sneaker, pimps]   \n",
      "4   [gut, wrenching, screaming, over, acoustic, in...   \n",
      "5                      [explosive, tracks, for, hiit]   \n",
      "6   [i, recently, watched, this, film, and, really...   \n",
      "7            [any, songs, that, make, you, emotional]   \n",
      "8   [like, daydreaming, from, a, moon, shaped, poo...   \n",
      "9   [looking, for, songs, similar, to, shes, gone,...   \n",
      "10  [electronic, featuring, low, hymn, chant, simi...   \n",
      "11  [song, similar, to, the, first, minute, of, ba...   \n",
      "12                   [something, new, from, hip, hop]   \n",
      "13  [songs, similar, to, the, brothers, brights, a...   \n",
      "14           [looking, for, some, funky, inspiration]   \n",
      "15    [songs, sounds, like, drive, by, by, lil, peep]   \n",
      "16                        [suggestions, for, j, cole]   \n",
      "17     [bands, similar, to, trudy, and, the, romance]   \n",
      "18  [a, song, to, play, on, the, piano, and, sing,...   \n",
      "19                                    [nepali, songs]   \n",
      "20  [looking, for, action, spy, detective, type, m...   \n",
      "21  [prog, metal, like, seventh, son, and, operati...   \n",
      "22  [love, the, drop, in, this, song, raven, link,...   \n",
      "23  [army, choir, with, hip, hop, sample, ,, i, be...   \n",
      "24         [songs, like, this, one, great, for, mdma]   \n",
      "25               [music, similar, to, glass, animals]   \n",
      "26  [songs, similar, to, deer, creek, canyon, by, ...   \n",
      "27  [country, americana, that, touches, on, social...   \n",
      "28  [songs, to, listen, to, when, youre, madly, in...   \n",
      "29     [garage, rock, like, this, ,, having, trouble]   \n",
      "30  [trying, to, find, songs, with, sounds, simila...   \n",
      "31                             [stuff, like, crywank]   \n",
      "32               [artists, similar, to, still, woozy]   \n",
      "33          [looking, or, spacey, psychedelic, music]   \n",
      "34                  [chill, piano, electronic, music]   \n",
      "35                                [adeyeme, all, day]   \n",
      "36                      [haley, smalls, voodoo, doll]   \n",
      "37   [movie, voices, speeches, dialogues, as, lyrics]   \n",
      "38                    [suave, youngin, neon, clothes]   \n",
      "39       [looking, for, music, that, feels, primeval]   \n",
      "40  [music, with, similar, theme, as, save, yourse...   \n",
      "41                [similar, songs, genre, like, this]   \n",
      "42                     [music, like, parquet, courts]   \n",
      "43     [creating, a, grade, 6, graduation, slideshow]   \n",
      "44      [something, similar, to, system, of, a, down]   \n",
      "45     [trance, classical, newage, music, like, this]   \n",
      "46  [looking, for, a, distinct, style, of, movie, ...   \n",
      "47  [looking, for, motivational, music, for, my, g...   \n",
      "48  [im, addicted, to, this, song, is, not, about,...   \n",
      "49  [suggest, music, like, this, ,, lots, of, viol...   \n",
      "50  [looking, for, deep, music, similar, to, 2, pa...   \n",
      "51  [looking, for, a, nostalgia, trip, courtesy, o...   \n",
      "52  [rap, songs, with, a, dope, beat, like, this, ...   \n",
      "53                           [edm, similar, to, this]   \n",
      "54  [songs, similar, to, blank, space, by, i, prev...   \n",
      "55            [i, need, good, music, recommendations]   \n",
      "56          [looking, for, highlights, montage, song]   \n",
      "57          [looking, for, high, bpm, techno, stuffs]   \n",
      "58  [looking, for, like, electronic, music, with, ...   \n",
      "59  [looking, for, pop, songs, about, the, end, of...   \n",
      "\n",
      "                                             ner_tags  \\\n",
      "0       [0, 0, 1, 3, 4, 0, 0, 0, 0, 0, 0, 0, 1, 2, 0]   \n",
      "1                         [0, 0, 0, 0, 3, 4, 0, 1, 2]   \n",
      "2                                     [0, 0, 0, 0, 0]   \n",
      "3                               [0, 0, 3, 4, 0, 1, 2]   \n",
      "4                                  [0, 0, 0, 0, 0, 0]   \n",
      "5                                        [0, 0, 0, 0]   \n",
      "6   [0, 0, 0, 0, 0, 0, 0, 0, 0, 0, 0, 0, 0, 0, 0, ...   \n",
      "7                                  [0, 0, 0, 0, 0, 0]   \n",
      "8                         [0, 3, 0, 3, 4, 4, 4, 0, 1]   \n",
      "9                      [0, 0, 0, 0, 0, 3, 4, 4, 0, 1]   \n",
      "10               [0, 0, 0, 0, 0, 0, 0, 0, 0, 1, 2, 3]   \n",
      "11               [0, 0, 0, 0, 0, 0, 0, 3, 4, 0, 1, 2]   \n",
      "12                                    [0, 0, 0, 0, 0]   \n",
      "13                        [0, 0, 0, 1, 2, 2, 3, 4, 4]   \n",
      "14                                    [0, 0, 0, 0, 0]   \n",
      "15                           [0, 0, 0, 3, 4, 0, 1, 2]   \n",
      "16                                       [0, 0, 1, 2]   \n",
      "17                              [0, 0, 0, 1, 2, 2, 2]   \n",
      "18   [0, 0, 0, 0, 0, 0, 0, 0, 0, 0, 0, 0, 0, 0, 0, 0]   \n",
      "19                                             [0, 0]   \n",
      "20                              [0, 0, 0, 0, 0, 0, 0]   \n",
      "21                        [0, 0, 0, 3, 4, 0, 1, 2, 2]   \n",
      "22               [0, 0, 0, 0, 0, 0, 1, 2, 3, 0, 0, 1]   \n",
      "23      [0, 0, 0, 0, 0, 0, 0, 0, 0, 0, 0, 0, 0, 0, 0]   \n",
      "24                              [0, 0, 0, 0, 0, 0, 0]   \n",
      "25                                    [0, 0, 0, 1, 2]   \n",
      "26                        [0, 0, 0, 3, 4, 4, 0, 1, 2]   \n",
      "27            [0, 0, 0, 0, 0, 0, 0, 0, 0, 0, 0, 0, 0]   \n",
      "28            [0, 0, 0, 0, 0, 0, 0, 0, 0, 0, 0, 0, 0]   \n",
      "29                              [0, 0, 0, 0, 0, 0, 0]   \n",
      "30                     [0, 0, 0, 0, 0, 0, 0, 0, 0, 0]   \n",
      "31                                          [0, 0, 1]   \n",
      "32                                    [0, 0, 0, 1, 2]   \n",
      "33                                    [0, 0, 0, 0, 0]   \n",
      "34                                       [0, 0, 0, 0]   \n",
      "35                                          [1, 0, 0]   \n",
      "36                                       [1, 2, 3, 4]   \n",
      "37                                 [0, 0, 0, 0, 0, 0]   \n",
      "38                                       [1, 2, 3, 4]   \n",
      "39                                 [0, 0, 0, 0, 0, 0]   \n",
      "40  [0, 0, 0, 0, 0, 3, 4, 1, 2, 0, 0, 0, 0, 0, 0, ...   \n",
      "41                                    [0, 0, 0, 0, 0]   \n",
      "42                                       [0, 0, 1, 2]   \n",
      "43                                 [0, 0, 0, 0, 0, 0]   \n",
      "44                              [0, 0, 0, 1, 2, 2, 2]   \n",
      "45                                 [0, 0, 0, 0, 0, 0]   \n",
      "46                        [0, 0, 0, 0, 0, 0, 0, 0, 0]   \n",
      "47                        [0, 0, 0, 0, 0, 0, 0, 0, 0]   \n",
      "48  [0, 0, 0, 3, 4, 4, 4, 4, 4, 4, 0, 1, 0, 1, 2, ...   \n",
      "49                     [0, 0, 0, 0, 0, 0, 0, 0, 0, 0]   \n",
      "50                     [0, 0, 0, 0, 0, 0, 1, 2, 1, 2]   \n",
      "51  [0, 0, 0, 0, 0, 0, 0, 0, 0, 0, 0, 0, 0, 0, 0, ...   \n",
      "52                        [0, 0, 0, 0, 0, 0, 0, 0, 0]   \n",
      "53                                       [0, 0, 0, 0]   \n",
      "54                           [0, 0, 0, 3, 4, 0, 1, 2]   \n",
      "55                                    [0, 0, 0, 0, 0]   \n",
      "56                                    [0, 0, 0, 0, 0]   \n",
      "57                                 [0, 0, 0, 0, 0, 0]   \n",
      "58      [0, 0, 0, 0, 0, 0, 0, 0, 0, 0, 0, 0, 0, 0, 0]   \n",
      "59                     [0, 0, 0, 0, 0, 0, 0, 0, 0, 0]   \n",
      "\n",
      "                                                spans  \\\n",
      "0     [Artist: radioheads, Artist_or_WoA: aphex twin]   \n",
      "1            [WoA: evil woman, Artist: black sabbath]   \n",
      "2                                  [Artist: lindécis]   \n",
      "3         [WoA: 6 underground, Artist: sneaker pimps]   \n",
      "4                                    [WoA: westworld]   \n",
      "5                                    [WoA: westworld]   \n",
      "6                       [Artist: m2us, WoA: magnolia]   \n",
      "7      [WoA: 39 drift away, Artist: hotel california]   \n",
      "8   [WoA: daydreaming from a moon, WoA: shaped poo...   \n",
      "9                  [WoA: shes gone away, Artist: nin]   \n",
      "10          [Artist: childish gambinos, WoA: bonfire]   \n",
      "11  [WoA: the first minute, WoA: bad guy, Artist: ...   \n",
      "12               [Artist: roderick porter, WoA: baby]   \n",
      "13   [Artist: brothers brights, WoA: awake o sleeper]   \n",
      "14                  [WoA: 16, Artist: highly suspect]   \n",
      "15                  [WoA: drive by, Artist: lil peep]   \n",
      "16                               [Artist: the smiths]   \n",
      "17                    [Artist: trudy and the romance]   \n",
      "18                    [Artist_or_WoA: the mini ladds]   \n",
      "19                  [Artist: muse, WoA: plug in baby]   \n",
      "20             [WoA: paris, Artist: the chainsmokers]   \n",
      "21  [Artist_or_WoA: seventh son, Artist_or_WoA: op...   \n",
      "22            [WoA: raven link change, Artist: caver]   \n",
      "23    [WoA: glisten interlude, Artist: jeremy zucker]   \n",
      "24                              [WoA: great for mdma]   \n",
      "25                     [Artist_or_WoA: glass animals]   \n",
      "26     [WoA: deer creek canyon, Artist: sera cahoone]   \n",
      "27  [Artist: fleetwood mac, WoA: the chain, Artist...   \n",
      "28  [Artist: fleetwood mac, WoA: the chain, Artist...   \n",
      "29  [Artist: fleetwood mac, WoA: the chain, Artist...   \n",
      "30                  [WoA: better days, Artist: desso]   \n",
      "31                           [Artist_or_WoA: crywank]   \n",
      "32                              [Artist: still woozy]   \n",
      "33  [Artist: bonnie prince billys, Artist_or_WoA: ...   \n",
      "34                                        [WoA: coco]   \n",
      "35                              [Artist: david lynch]   \n",
      "36           [Artist: haley smalls, WoA: voodoo doll]   \n",
      "37  [Artist_or_WoA: grizzly bear will calls, Artis...   \n",
      "38                 [WoA: bowsprit, Artist: balmorhea]   \n",
      "39  [Artist: hoziers, WoA: someone new, Artist: el...   \n",
      "40   [Artist_or_WoA: save yourself stabbing westward]   \n",
      "41         [Artist: the llamas with hats, WoA: outro]   \n",
      "42         [Artist: the llamas with hats, WoA: outro]   \n",
      "43            [Artist: bon iver, Artist: iron & wine]   \n",
      "44                         [Artist: system of a down]   \n",
      "45    [Artist: amon tobin & kid koala, WoA: untitled]   \n",
      "46  [Artist_or_WoA: the sounds of eden, Artist_or_...   \n",
      "47  [Artist: smino sudan, Artist: archives, Artist...   \n",
      "48  [WoA: this song is not about a girl, Artist: f...   \n",
      "49                 [Artist_or_WoA: little known game]   \n",
      "50  [Artist_or_WoA: bones, Artist_or_WoA: deadinde...   \n",
      "51  [WoA: the likes, Artist: rage against the mach...   \n",
      "52            [WoA: the chain, Artist: fleetwood mac]   \n",
      "53                  [Artist: post malone, WoA: leave]   \n",
      "54              [WoA: blank space, Artist: i prevail]   \n",
      "55  [Artist: tyler the creator, Artist: chance the...   \n",
      "56                                        [WoA: coco]   \n",
      "57                                    [Artist: trust]   \n",
      "58  [WoA: the piper at the gates of dawn, Artist: ...   \n",
      "59  [WoA: the piper at the gates of dawn, Artist: ...   \n",
      "\n",
      "                                                 text  \n",
      "0   i love radioheads kid a something similar , ki...  \n",
      "1   bluesy songs kinda like evil woman by black sa...  \n",
      "2                             music for a 1920s party  \n",
      "3           similar to 6 underground by sneaker pimps  \n",
      "4   gut wrenching screaming over acoustic instrume...  \n",
      "5                           explosive tracks for hiit  \n",
      "6   i recently watched this film and really liked ...  \n",
      "7                   any songs that make you emotional  \n",
      "8   like daydreaming from a moon shaped pool by ra...  \n",
      "9   looking for songs similar to shes gone away by...  \n",
      "10  electronic featuring low hymn chant similar to...  \n",
      "11  song similar to the first minute of bad guy by...  \n",
      "12                         something new from hip hop  \n",
      "13  songs similar to the brothers brights awake o ...  \n",
      "14                 looking for some funky inspiration  \n",
      "15             songs sounds like drive by by lil peep  \n",
      "16                             suggestions for j cole  \n",
      "17             bands similar to trudy and the romance  \n",
      "18  a song to play on the piano and sing along to ...  \n",
      "19                                       nepali songs  \n",
      "20        looking for action spy detective type music  \n",
      "21  prog metal like seventh son and operation mind...  \n",
      "22  love the drop in this song raven link change f...  \n",
      "23  army choir with hip hop sample , i beg you to ...  \n",
      "24                 songs like this one great for mdma  \n",
      "25                     music similar to glass animals  \n",
      "26  songs similar to deer creek canyon by sera cah...  \n",
      "27  country americana that touches on social issue...  \n",
      "28  songs to listen to when youre madly in love or...  \n",
      "29             garage rock like this , having trouble  \n",
      "30  trying to find songs with sounds similar to th...  \n",
      "31                                 stuff like crywank  \n",
      "32                     artists similar to still woozy  \n",
      "33                looking or spacey psychedelic music  \n",
      "34                       chill piano electronic music  \n",
      "35                                    adeyeme all day  \n",
      "36                           haley smalls voodoo doll  \n",
      "37          movie voices speeches dialogues as lyrics  \n",
      "38                         suave youngin neon clothes  \n",
      "39              looking for music that feels primeval  \n",
      "40  music with similar theme as save yourself stab...  \n",
      "41                      similar songs genre like this  \n",
      "42                          music like parquet courts  \n",
      "43            creating a grade 6 graduation slideshow  \n",
      "44              something similar to system of a down  \n",
      "45            trance classical newage music like this  \n",
      "46  looking for a distinct style of movie ending s...  \n",
      "47  looking for motivational music for my grind in...  \n",
      "48  im addicted to this song is not about a girl b...  \n",
      "49  suggest music like this , lots of violins play...  \n",
      "50   looking for deep music similar to 2 pac styles p  \n",
      "51  looking for a nostalgia trip courtesy of early...  \n",
      "52           rap songs with a dope beat like this one  \n",
      "53                                edm similar to this  \n",
      "54          songs similar to blank space by i prevail  \n",
      "55                  i need good music recommendations  \n",
      "56                looking for highlights montage song  \n",
      "57                 looking for high bpm techno stuffs  \n",
      "58  looking for like electronic music with a depre...  \n",
      "59   looking for pop songs about the end of the world  \n"
     ]
    }
   ],
   "source": [
    "training_df = pd.DataFrame({\"tokens\":train_tokens, \"ner_tags\": train_ner_tags, \"spans\": train_spans})\n",
    "test_df = pd.DataFrame({\"tokens\": test_tokens, \"ner_tags\": test_ner_tags, \"spans\": test_spans})\n",
    "training_df[\"text\"] = training_df[\"tokens\"].apply(lambda x: \" \".join(x))\n",
    "test_df[\"text\"] = test_df[\"tokens\"].apply(lambda x: \" \".join(x))\n",
    "training_df.dropna()\n",
    "test_df.dropna()\n",
    "print(test_df)"
   ]
  },
  {
   "cell_type": "code",
   "execution_count": 8,
   "id": "7842b146-d4f2-47d8-9430-ce8bb3b97bf4",
   "metadata": {},
   "outputs": [
    {
     "name": "stdout",
     "output_type": "stream",
     "text": [
      "{'tokens': Sequence(feature=Value(dtype='string', id=None), length=-1, id=None), 'ner_tags': Sequence(feature=ClassLabel(names=['O', 'B-Artist', 'I-Artist', 'B-WoA', 'I-WoA'], id=None), length=-1, id=None), 'spans': Sequence(feature=Value(dtype='string', id=None), length=-1, id=None), 'text': Value(dtype='string', id=None)}\n",
      "DatasetDict({\n",
      "    train: Dataset({\n",
      "        features: ['tokens', 'ner_tags', 'spans', 'text'],\n",
      "        num_rows: 539\n",
      "    })\n",
      "    test: Dataset({\n",
      "        features: ['tokens', 'ner_tags', 'spans', 'text'],\n",
      "        num_rows: 60\n",
      "    })\n",
      "})\n"
     ]
    }
   ],
   "source": [
    "tokenizer = AutoTokenizer.from_pretrained('bert-base-uncased')\n",
    "#model = AutoModel.from_pretrained(\"bert-base-cased\")\n",
    "features = Features({'tokens': Sequence(feature=Value(dtype='string', id=None), length=-1, id=None), \n",
    "            'ner_tags': Sequence(feature=ClassLabel(names=['O', 'B-Artist', 'I-Artist', 'B-WoA', 'I-WoA'], id=None), length=-1, id=None), \n",
    "            'spans': Sequence(feature=Value(dtype='string', id=None), length=-1, id=None),\n",
    "            'text': Value(dtype='string', id=None)\n",
    "                    })\n",
    "training_dataset = Dataset.from_pandas(training_df, features=features)\n",
    "test_dataset = Dataset.from_pandas(test_df, features=features)\n",
    "dataset = DatasetDict({\"train\":training_dataset, \"test\":test_dataset}) \n",
    "print(dataset[\"train\"].features)\n",
    "label_names = dataset[\"train\"].features[\"ner_tags\"].feature.names\n",
    "print(dataset)"
   ]
  },
  {
   "cell_type": "code",
   "execution_count": 12,
   "id": "47e6a784-e067-4fa7-a3e5-d300c423df39",
   "metadata": {},
   "outputs": [],
   "source": [
    "def tokenize_adjust_labels(all_samples_per_split):\n",
    "    tokenized_samples = tokenizer.batch_encode_plus(all_samples_per_split[\"text\"])\n",
    "    total_adjusted_labels = []\n",
    "    for k in range(0, len(tokenized_samples[\"input_ids\"])):\n",
    "        prev_wid = -1\n",
    "        word_ids_list = tokenized_samples.word_ids(batch_index=k)\n",
    "        existing_label_ids = all_samples_per_split[\"ner_tags\"][k]\n",
    "        i = -1\n",
    "        adjusted_label_ids = []\n",
    "        for wid in word_ids_list:\n",
    "            if (wid is None):\n",
    "                adjusted_label_ids.append(-100)\n",
    "            elif (wid != prev_wid):\n",
    "                i = i + 1\n",
    "                adjusted_label_ids.append(existing_label_ids[i])\n",
    "                prev_wid = wid\n",
    "            else:\n",
    "                label_name = label_names[existing_label_ids[i]]\n",
    "                adjusted_label_ids.append(existing_label_ids[i])\n",
    "        total_adjusted_labels.append(adjusted_label_ids)\n",
    "    tokenized_samples[\"labels\"] = total_adjusted_labels\n",
    "    return tokenized_samples"
   ]
  },
  {
   "cell_type": "code",
   "execution_count": 13,
   "id": "6e914182-53c0-4b38-942f-366f0e0af5a4",
   "metadata": {},
   "outputs": [
    {
     "data": {
      "application/vnd.jupyter.widget-view+json": {
       "model_id": "86b8f9c553bf4c3eb2c0d9e1654606e4",
       "version_major": 2,
       "version_minor": 0
      },
      "text/plain": [
       "Map:   0%|          | 0/539 [00:00<?, ? examples/s]"
      ]
     },
     "metadata": {},
     "output_type": "display_data"
    },
    {
     "data": {
      "application/vnd.jupyter.widget-view+json": {
       "model_id": "61259f2c35fc4460892f2848b3fb1612",
       "version_major": 2,
       "version_minor": 0
      },
      "text/plain": [
       "Map:   0%|          | 0/60 [00:00<?, ? examples/s]"
      ]
     },
     "metadata": {},
     "output_type": "display_data"
    }
   ],
   "source": [
    "tokenized_dataset = dataset.map(tokenize_adjust_labels, batched=True)"
   ]
  },
  {
   "cell_type": "code",
   "execution_count": 14,
   "id": "6f80341e-71c3-4e16-a17c-ae9077443b4d",
   "metadata": {},
   "outputs": [],
   "source": [
    "data_collator = DataCollatorForTokenClassification(tokenizer)"
   ]
  },
  {
   "cell_type": "code",
   "execution_count": 15,
   "id": "9462b75d-316b-4e8b-ad68-2e83d235b946",
   "metadata": {},
   "outputs": [],
   "source": [
    "metric = load(\"seqeval\")\n",
    "def compute_metrics(p):\n",
    "    predictions, labels = p\n",
    "    predictions = np.argmax(predictions, axis=2)\n",
    "    # Remove ignored index (special tokens)\n",
    "    true_predictions = [\n",
    "        [label_names[p] for (p, l) in zip(prediction, label) if l != -100]\n",
    "        for prediction, label in zip(predictions, labels)\n",
    "    ]\n",
    "    true_labels = [\n",
    "        [label_names[l] for (p, l) in zip(prediction, label) if l != -100]\n",
    "        for prediction, label in zip(predictions, labels)\n",
    "    ]\n",
    "    results = metric.compute(predictions=true_predictions, references=true_labels)\n",
    "    flattened_results = {\n",
    "        \"overall_precision\": results[\"overall_precision\"],\n",
    "        \"overall_recall\": results[\"overall_recall\"],\n",
    "        \"overall_f1\": results[\"overall_f1\"],\n",
    "        \"overall_accuracy\": results[\"overall_accuracy\"],\n",
    "    }\n",
    "    for k in results.keys():\n",
    "      if(k not in flattened_results.keys()):\n",
    "        flattened_results[k+\"_f1\"]=results[k][\"f1\"]\n",
    "\n",
    "    return flattened_results"
   ]
  },
  {
   "cell_type": "code",
   "execution_count": 18,
   "id": "62a1e3af-ba38-429f-86ac-6b42d0a6ceaf",
   "metadata": {},
   "outputs": [
    {
     "name": "stderr",
     "output_type": "stream",
     "text": [
      "Some weights of BertForTokenClassification were not initialized from the model checkpoint at bert-base-uncased and are newly initialized: ['classifier.weight', 'classifier.bias']\n",
      "You should probably TRAIN this model on a down-stream task to be able to use it for predictions and inference.\n",
      "You're using a BertTokenizerFast tokenizer. Please note that with a fast tokenizer, using the `__call__` method is faster than using a method to encode the text followed by a call to the `pad` method to get a padded encoding.\n"
     ]
    },
    {
     "data": {
      "text/html": [
       "\n",
       "    <div>\n",
       "      \n",
       "      <progress value='238' max='238' style='width:300px; height:20px; vertical-align: middle;'></progress>\n",
       "      [238/238 00:27, Epoch 7/7]\n",
       "    </div>\n",
       "    <table border=\"1\" class=\"dataframe\">\n",
       "  <thead>\n",
       " <tr style=\"text-align: left;\">\n",
       "      <th>Step</th>\n",
       "      <th>Training Loss</th>\n",
       "      <th>Validation Loss</th>\n",
       "    </tr>\n",
       "  </thead>\n",
       "  <tbody>\n",
       "  </tbody>\n",
       "</table><p>"
      ],
      "text/plain": [
       "<IPython.core.display.HTML object>"
      ]
     },
     "metadata": {},
     "output_type": "display_data"
    },
    {
     "data": {
      "text/plain": [
       "TrainOutput(global_step=238, training_loss=0.24636973853872604, metrics={'train_runtime': 29.2275, 'train_samples_per_second': 129.091, 'train_steps_per_second': 8.143, 'total_flos': 51149717072610.0, 'train_loss': 0.24636973853872604, 'epoch': 7.0})"
      ]
     },
     "execution_count": 18,
     "metadata": {},
     "output_type": "execute_result"
    }
   ],
   "source": [
    "# Train model\n",
    "model = AutoModelForTokenClassification.from_pretrained('bert-base-uncased', num_labels=len(label_names))\n",
    "training_args = TrainingArguments(\n",
    "    output_dir=\"./fine_tune_bert_output\",\n",
    "    evaluation_strategy=\"steps\",\n",
    "    learning_rate=2e-5,\n",
    "    per_device_train_batch_size=16,\n",
    "    per_device_eval_batch_size=16,\n",
    "    num_train_epochs=7,\n",
    "    weight_decay=0.01,\n",
    "    logging_steps = 1000,\n",
    "    run_name = \"ep_10_tokenized_11\",\n",
    "    save_strategy='no'\n",
    ")\n",
    "trainer = Trainer(\n",
    "    model=model,\n",
    "    args=training_args,\n",
    "    train_dataset=tokenized_dataset[\"train\"],\n",
    "    eval_dataset=tokenized_dataset[\"test\"],\n",
    "    data_collator=data_collator,\n",
    "    tokenizer=tokenizer,\n",
    "    compute_metrics=compute_metrics\n",
    ")\n",
    "trainer.train()"
   ]
  },
  {
   "cell_type": "code",
   "execution_count": 19,
   "id": "aaaafe40-8de7-45ea-8ac9-1aae4310531f",
   "metadata": {},
   "outputs": [
    {
     "data": {
      "text/html": [
       "\n",
       "    <div>\n",
       "      \n",
       "      <progress value='4' max='4' style='width:300px; height:20px; vertical-align: middle;'></progress>\n",
       "      [4/4 00:00]\n",
       "    </div>\n",
       "    "
      ],
      "text/plain": [
       "<IPython.core.display.HTML object>"
      ]
     },
     "metadata": {},
     "output_type": "display_data"
    },
    {
     "data": {
      "text/plain": [
       "{'eval_loss': 0.2255576103925705,\n",
       " 'eval_overall_precision': 0.6911764705882353,\n",
       " 'eval_overall_recall': 0.7014925373134329,\n",
       " 'eval_overall_f1': 0.6962962962962963,\n",
       " 'eval_overall_accuracy': 0.9460869565217391,\n",
       " 'eval_Artist_f1': 0.7526881720430108,\n",
       " 'eval_WoA_f1': 0.5714285714285713,\n",
       " 'eval_runtime': 0.4747,\n",
       " 'eval_samples_per_second': 126.388,\n",
       " 'eval_steps_per_second': 8.426,\n",
       " 'epoch': 7.0}"
      ]
     },
     "execution_count": 19,
     "metadata": {},
     "output_type": "execute_result"
    }
   ],
   "source": [
    "# Evaluate model\n",
    "trainer.evaluate()"
   ]
  },
  {
   "cell_type": "code",
   "execution_count": 21,
   "id": "70dee8f3-c3e0-400b-a44a-73a2e73ae60e",
   "metadata": {},
   "outputs": [],
   "source": [
    "# Save model\n",
    "trainer.save_model(\"../models/bert_fine_tuned\")"
   ]
  },
  {
   "cell_type": "code",
   "execution_count": 46,
   "id": "350ed6fb-d9fe-4091-8c94-36bf86ccb900",
   "metadata": {},
   "outputs": [],
   "source": [
    "# Use model\n",
    "model = AutoModelForTokenClassification.from_pretrained(\"../models/bert_fine_tuned\")\n",
    "tokenizer = AutoTokenizer.from_pretrained(\"../models/bert_fine_tuned\")"
   ]
  },
  {
   "cell_type": "code",
   "execution_count": 48,
   "id": "4fe4033b-f751-4141-8c29-26f677e7c56c",
   "metadata": {},
   "outputs": [
    {
     "data": {
      "text/plain": [
       "[{'entity_group': 'LABEL_0',\n",
       "  'score': 0.99922186,\n",
       "  'word': 'music similar to',\n",
       "  'start': 0,\n",
       "  'end': 16},\n",
       " {'entity_group': 'LABEL_1',\n",
       "  'score': 0.96955717,\n",
       "  'word': 'morphine robocobra',\n",
       "  'start': 17,\n",
       "  'end': 35},\n",
       " {'entity_group': 'LABEL_2',\n",
       "  'score': 0.5487502,\n",
       "  'word': 'quartet',\n",
       "  'start': 36,\n",
       "  'end': 43},\n",
       " {'entity_group': 'LABEL_0',\n",
       "  'score': 0.99884653,\n",
       "  'word': '| featuring elements like saxophone prominent bass',\n",
       "  'start': 44,\n",
       "  'end': 94}]"
      ]
     },
     "execution_count": 48,
     "metadata": {},
     "output_type": "execute_result"
    }
   ],
   "source": [
    "text = \"music similar to morphine robocobra quartet | featuring elements like saxophone prominent bass\"\n",
    "from transformers import pipeline\n",
    "pipe = pipeline(task=\"token-classification\", model=model.to(\"cpu\"), tokenizer=tokenizer, aggregation_strategy=\"simple\")\n",
    "pipe(text)\n",
    "# tag_mapping = {\"O\": 0, \"B-Artist\": 1, \"I-Artist\": 2, \"B-WoA\": 3, \"I-WoA\": 4}"
   ]
  },
  {
   "cell_type": "code",
   "execution_count": null,
   "id": "4324185a-c9a7-4d12-96ca-bc309ece74d1",
   "metadata": {},
   "outputs": [],
   "source": []
  }
 ],
 "metadata": {
  "kernelspec": {
   "display_name": "Python 3 (ipykernel)",
   "language": "python",
   "name": "python3"
  },
  "language_info": {
   "codemirror_mode": {
    "name": "ipython",
    "version": 3
   },
   "file_extension": ".py",
   "mimetype": "text/x-python",
   "name": "python",
   "nbconvert_exporter": "python",
   "pygments_lexer": "ipython3",
   "version": "3.10.12"
  }
 },
 "nbformat": 4,
 "nbformat_minor": 5
}
