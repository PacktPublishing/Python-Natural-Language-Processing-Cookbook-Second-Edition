{
 "cells": [
  {
   "cell_type": "code",
   "execution_count": 1,
   "id": "a3e82827-7622-4038-be21-5f548612288f",
   "metadata": {},
   "outputs": [],
   "source": [
    "import os\n",
    "import torch\n",
    "from transformers import AutoTokenizer, AutoModelForCausalLM, BitsAndBytesConfig, GenerationConfig"
   ]
  },
  {
   "cell_type": "code",
   "execution_count": null,
   "id": "4dcc3169-7a30-4441-a93c-1fd546c413fc",
   "metadata": {},
   "outputs": [],
   "source": [
    "# This recipe requires a HuggingFace token to access the mistral models from the hub. You will need to create a HuggingFace login\n",
    "# and generate a token for use at https://huggingface.co/settings/tokens. You will also need to visit the model card at \n",
    "# https://huggingface.co/mistralai/Mistral-7B-Instruct-v0.1 and accept the terms to use the model. Once you have generated the token,\n",
    "# save it in an environment variable named HUGGINGFACE_TOKEN and read it in the recipe as shown in the snippet below.\n",
    "from huggingface_hub import login\n",
    "hf_token = os.environ.get('HUGGINGFACE_TOKEN')\n",
    "login(token=hf_token)"
   ]
  },
  {
   "cell_type": "code",
   "execution_count": 3,
   "id": "eb43041e-5f81-4b31-b90f-257e39a3b4ca",
   "metadata": {},
   "outputs": [
    {
     "data": {
      "application/vnd.jupyter.widget-view+json": {
       "model_id": "57c63bd8d43e463f9ebf454d3ea6d753",
       "version_major": 2,
       "version_minor": 0
      },
      "text/plain": [
       "Loading checkpoint shards:   0%|          | 0/2 [00:00<?, ?it/s]"
      ]
     },
     "metadata": {},
     "output_type": "display_data"
    }
   ],
   "source": [
    "device = torch.device(\"cuda\" if torch.cuda.is_available() else \"cpu\")\n",
    "\n",
    "quantization_config = BitsAndBytesConfig(load_in_4bit=True)\n",
    "model = AutoModelForCausalLM.from_pretrained(\n",
    "            \"mistralai/Mistral-7B-v0.1\", \n",
    "            device_map=\"auto\", \n",
    "            quantization_config=quantization_config,\n",
    "        )\n",
    "\n",
    "tokenizer = AutoTokenizer.from_pretrained(\"mistralai/Mistral-7B-v0.1\", padding_side=\"left\")"
   ]
  },
  {
   "cell_type": "code",
   "execution_count": 4,
   "id": "7c45b7fb-b33f-4d80-a36b-e2331b49ec03",
   "metadata": {},
   "outputs": [],
   "source": [
    "generation_config = GenerationConfig(\n",
    "    num_beams=4,\n",
    "    early_stopping=True,\n",
    "    eos_token_id=model.config.eos_token_id,\n",
    "    pad_token_id=model.config.eos_token_id,\n",
    "    max_new_tokens=900,\n",
    ")"
   ]
  },
  {
   "cell_type": "code",
   "execution_count": 5,
   "id": "02febbf4-ed87-455f-ac2d-b7b78aa3b32c",
   "metadata": {},
   "outputs": [],
   "source": [
    "seed_sentence = \"Step by step way on how to make an apple pie:\""
   ]
  },
  {
   "cell_type": "code",
   "execution_count": 6,
   "id": "485356eb-adb1-48fd-ba14-aace7f937e10",
   "metadata": {},
   "outputs": [],
   "source": [
    "model_inputs = tokenizer([seed_sentence], return_tensors=\"pt\").to(device)\n",
    "generated_ids = model.generate(**model_inputs, generation_config=generation_config)"
   ]
  },
  {
   "cell_type": "code",
   "execution_count": 7,
   "id": "934d6293-f967-49eb-b374-be448ffedf1a",
   "metadata": {},
   "outputs": [
    {
     "name": "stdout",
     "output_type": "stream",
     "text": [
      "Step by step way on how to make an apple pie:\n",
      "\n",
      "1. Preheat the oven to 200°C/400°F/gas mark 6.\n",
      "2. Roll out the pastry on a lightly floured surface to the thickness of a £1 coin.\n",
      "3. Line a 23cm/9in fluted tart tin with the pastry, leaving the excess pastry hanging over the edge.\n",
      "4. Prick the base of the pastry with a fork.\n",
      "5. Line the pastry with baking parchment and fill with baking beans.\n",
      "6. Bake for 15 minutes.\n",
      "7. Remove the baking beans and baking parchment.\n",
      "8. Bake for a further 10 minutes, or until the pastry is golden-brown.\n",
      "9. Remove from the oven and leave to cool.\n",
      "10. Reduce the oven temperature to 180°C/350°F/gas mark 4.\n",
      "11. Peel, core and slice the apples.\n",
      "12. Place the apples in a large bowl.\n",
      "13. Add the sugar, lemon juice and cinnamon.\n",
      "14. Mix well.\n",
      "15. Spoon the apple mixture into the pastry case.\n",
      "16. Roll out the remaining pastry on a lightly floured surface to the thickness of a £1 coin.\n",
      "17. Cut the pastry into 2.5cm/1in strips.\n",
      "18. Weave the pastry strips over the apples.\n",
      "19. Brush the pastry with the beaten egg.\n",
      "20. Bake in the oven for 30-35 minutes, or until the pastry is golden-brown.\n",
      "21. Remove from the oven and leave to cool for 10 minutes.\n",
      "22. Cut into slices and serve.\n",
      "\n",
      "Ingredients:\n",
      "\n",
      "- 375g/13oz ready-made shortcrust pastry\n",
      "- 500g/1lb 2oz Bramley apples, peeled, cored and sliced\n",
      "- 100g/3½oz caster sugar\n",
      "- 1 tbsp lemon juice\n",
      "- ½ tsp ground cinnamon\n",
      "- 1 free-range egg, beaten, to glaze\n"
     ]
    }
   ],
   "source": [
    "generated_tokens = tokenizer.batch_decode(generated_ids, skip_special_tokens=True)[0]\n",
    "print(generated_tokens)"
   ]
  }
 ],
 "metadata": {
  "kernelspec": {
   "display_name": "chapter10",
   "language": "python",
   "name": "chapter10"
  },
  "language_info": {
   "codemirror_mode": {
    "name": "ipython",
    "version": 3
   },
   "file_extension": ".py",
   "mimetype": "text/x-python",
   "name": "python",
   "nbconvert_exporter": "python",
   "pygments_lexer": "ipython3",
   "version": "3.10.12"
  }
 },
 "nbformat": 4,
 "nbformat_minor": 5
}
