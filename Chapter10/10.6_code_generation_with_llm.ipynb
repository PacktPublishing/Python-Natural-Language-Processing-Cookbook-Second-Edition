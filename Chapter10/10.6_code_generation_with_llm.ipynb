{
 "cells": [
  {
   "cell_type": "code",
   "execution_count": 1,
   "id": "3ccadca4-1e55-43c8-88eb-080cceea6df0",
   "metadata": {},
   "outputs": [],
   "source": [
    "from langchain_core.output_parsers import StrOutputParser\n",
    "from langchain_core.prompts import (\n",
    "    ChatPromptTemplate,\n",
    ")\n",
    "from langchain_experimental.utilities import PythonREPL\n",
    "from langchain.llms import Ollama"
   ]
  },
  {
   "cell_type": "code",
   "execution_count": 2,
   "id": "5b9f3519-b83a-4a9d-8818-43d05a3c2732",
   "metadata": {},
   "outputs": [],
   "source": [
    "template = \"\"\"Write some python code to solve the user's problem. \n",
    "\n",
    "Return only python code in Markdown format, e.g.:\n",
    "\n",
    "```python\n",
    "....\n",
    "```\"\"\"\n",
    "prompt = ChatPromptTemplate.from_messages([(\"system\", template), (\"human\", \"{input}\")])"
   ]
  },
  {
   "cell_type": "code",
   "execution_count": 3,
   "id": "9bf31694-45bb-4070-b825-4a96af5c8a8b",
   "metadata": {},
   "outputs": [],
   "source": [
    "model = Ollama(model=\"codellama\")"
   ]
  },
  {
   "cell_type": "code",
   "execution_count": 4,
   "id": "7c070288-90b8-4259-b882-48d40c0a1a1f",
   "metadata": {},
   "outputs": [],
   "source": [
    "chain = prompt | model | StrOutputParser()"
   ]
  },
  {
   "cell_type": "code",
   "execution_count": 5,
   "id": "6135e3fc-d422-43e1-baf7-891396063648",
   "metadata": {},
   "outputs": [
    {
     "name": "stdout",
     "output_type": "stream",
     "text": [
      "\n",
      "```python\n",
      "# This program uses a recursive approach to print the elements of a binary tree in an inorder traversal\n",
      "\n",
      "class Node:\n",
      "    def __init__(self, data):\n",
      "        self.data = data\n",
      "        self.left = None\n",
      "        self.right = None\n",
      "\n",
      "def inorderTraversal(root):\n",
      "    if root is None:\n",
      "        return\n",
      "    inorderTraversal(root.left)\n",
      "    print(root.data)\n",
      "    inorderTraversal(root.right)\n",
      "\n",
      "# Driver code\n",
      "if __name__ == \"__main__\":\n",
      "    root = Node(1)\n",
      "    root.left = Node(2)\n",
      "    root.right = Node(3)\n",
      "    inorderTraversal(root)\n",
      "```\n"
     ]
    }
   ],
   "source": [
    "result = chain.invoke({\"input\": \"write a program to print a binary tree in an inorder traversal\"})\n",
    "print(result)"
   ]
  },
  {
   "cell_type": "code",
   "execution_count": 6,
   "id": "d8ee2b0d-0fea-49f0-bcbc-85b5bd652d46",
   "metadata": {},
   "outputs": [
    {
     "name": "stdout",
     "output_type": "stream",
     "text": [
      "\n",
      "```python\n",
      "import hashlib\n",
      "\n",
      "def generate_aes_hash(data):\n",
      "    return hashlib.sha512(data).hexdigest()\n",
      "```\n",
      "This program uses the `hashlib` module to generate a SHA-512 hash of the input data, which is a 512-bit hash value. The `hexdigest()` method is used to convert the binary data into a hexadecimal string representation.\n"
     ]
    }
   ],
   "source": [
    "result = chain.invoke({\"input\": \"write a program to generate a 512-bit AES hash\"})\n",
    "print(result)"
   ]
  },
  {
   "cell_type": "code",
   "execution_count": 7,
   "id": "003328cb-7fb2-4e7d-854f-46ee2dd08be8",
   "metadata": {},
   "outputs": [],
   "source": [
    "import os\n",
    "from langchain_openai import ChatOpenAI"
   ]
  },
  {
   "cell_type": "code",
   "execution_count": 8,
   "id": "89979367-694e-413d-b7b4-51961c083a88",
   "metadata": {},
   "outputs": [],
   "source": [
    "api_key = os.environ.get('OPENAI_API_KEY') # Read the OpenAPI key from the environment variables\n",
    "model = ChatOpenAI(openai_api_key=api_key)"
   ]
  },
  {
   "cell_type": "code",
   "execution_count": 9,
   "id": "8efc311a-df2d-4589-ab73-1771837e314e",
   "metadata": {},
   "outputs": [],
   "source": [
    "chain = prompt | model | StrOutputParser()"
   ]
  },
  {
   "cell_type": "code",
   "execution_count": 10,
   "id": "2fec9726-c926-4064-a05c-0e1f310d4306",
   "metadata": {},
   "outputs": [
    {
     "name": "stdout",
     "output_type": "stream",
     "text": [
      "```python\n",
      "from Crypto.Hash import SHA512\n",
      "\n",
      "data = b\"Hello, World!\"\n",
      "hash_object = SHA512.new(data)\n",
      "hash_value = hash_object.hexdigest()\n",
      "\n",
      "print(hash_value)\n",
      "```\n"
     ]
    }
   ],
   "source": [
    "result = chain.invoke({\"input\": \"write a program to generate a 512-bit AES hash\"})\n",
    "print(result)"
   ]
  }
 ],
 "metadata": {
  "kernelspec": {
   "display_name": "chapter10",
   "language": "python",
   "name": "chapter10"
  },
  "language_info": {
   "codemirror_mode": {
    "name": "ipython",
    "version": 3
   },
   "file_extension": ".py",
   "mimetype": "text/x-python",
   "name": "python",
   "nbconvert_exporter": "python",
   "pygments_lexer": "ipython3",
   "version": "3.10.12"
  }
 },
 "nbformat": 4,
 "nbformat_minor": 5
}
