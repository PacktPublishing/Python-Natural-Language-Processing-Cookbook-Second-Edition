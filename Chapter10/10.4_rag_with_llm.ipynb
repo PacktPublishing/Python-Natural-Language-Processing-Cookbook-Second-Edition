{
 "cells": [
  {
   "cell_type": "code",
   "execution_count": 1,
   "id": "53130756-e579-46eb-8e4f-fe2bda5138af",
   "metadata": {},
   "outputs": [],
   "source": [
    "from langchain.chains.combine_documents import create_stuff_documents_chain\n",
    "from langchain.llms import Ollama\n",
    "from langchain.prompts import ChatPromptTemplate\n",
    "from langchain.text_splitter import RecursiveCharacterTextSplitter\n",
    "\n",
    "from langchain_community.document_loaders import WebBaseLoader\n",
    "from langchain_community.embeddings import OllamaEmbeddings\n",
    "from langchain_community.vectorstores import DocArrayInMemorySearch\n",
    "\n",
    "from langchain_core.output_parsers import StrOutputParser\n",
    "from langchain_core.runnables import RunnableParallel, RunnablePassthrough"
   ]
  },
  {
   "cell_type": "code",
   "execution_count": 2,
   "id": "e814fbe4-88ce-4703-8cff-07bd91727ea7",
   "metadata": {},
   "outputs": [],
   "source": [
    "llm = Ollama(model=\"llama2\")\n",
    "embeddings_provider = OllamaEmbeddings()"
   ]
  },
  {
   "cell_type": "code",
   "execution_count": 3,
   "id": "d46c8e2f-12d6-4bc2-9485-773cbcb42076",
   "metadata": {},
   "outputs": [],
   "source": [
    "loader = WebBaseLoader(\n",
    "    [\"https://en.wikipedia.org/wiki/2024_Summer_Olympics\"\n",
    "     ]\n",
    ")\n",
    "\n",
    "docs = loader.load()"
   ]
  },
  {
   "cell_type": "code",
   "execution_count": 4,
   "id": "03c625e0-5532-4ed4-96dc-e38e3d5a19a4",
   "metadata": {},
   "outputs": [],
   "source": [
    "text_splitter = RecursiveCharacterTextSplitter()\n",
    "document_chunks = text_splitter.split_documents(docs)"
   ]
  },
  {
   "cell_type": "code",
   "execution_count": 5,
   "id": "6dafe353-2c40-45f4-8a52-f525fe65a988",
   "metadata": {},
   "outputs": [],
   "source": [
    "vector_store = DocArrayInMemorySearch.from_documents(document_chunks, embeddings_provider)"
   ]
  },
  {
   "cell_type": "code",
   "execution_count": 6,
   "id": "ba3d7354-b15c-40be-aa61-94582cbdfdc1",
   "metadata": {},
   "outputs": [],
   "source": [
    "template = \"\"\"Answer the question based only on the following context:\n",
    "                {context}\n",
    "\n",
    "                Question: {question}\n",
    "                \"\"\"\n",
    "prompt = ChatPromptTemplate.from_template(template)"
   ]
  },
  {
   "cell_type": "code",
   "execution_count": 7,
   "id": "0d628e84-0117-4f1b-a99f-f8363ec05c53",
   "metadata": {},
   "outputs": [],
   "source": [
    "retriever = vector_store.as_retriever(\n",
    "                search_type=\"similarity\"\n",
    "            )\n",
    "output_parser = StrOutputParser()"
   ]
  },
  {
   "cell_type": "code",
   "execution_count": 8,
   "id": "a8449c9a-c7de-44ec-8bf1-ea3345cca2a2",
   "metadata": {},
   "outputs": [],
   "source": [
    "setup_and_retrieval = RunnableParallel(\n",
    "    {\"context\": retriever, \"question\": RunnablePassthrough()}\n",
    ")\n",
    "chain = setup_and_retrieval | prompt | llm | output_parser\n"
   ]
  },
  {
   "cell_type": "code",
   "execution_count": 9,
   "id": "f8eb9f53-f639-46a2-92c3-f7cd27ee73f9",
   "metadata": {},
   "outputs": [
    {
     "name": "stdout",
     "output_type": "stream",
     "text": [
      "Answer: The 2024 Summer Olympics are being held in Paris, France.\n"
     ]
    }
   ],
   "source": [
    "result = chain.invoke(\"Where are the 2024 summer olympics being held?\")\n",
    "print(result)"
   ]
  },
  {
   "cell_type": "code",
   "execution_count": 10,
   "id": "9df0553e-3881-48c1-9017-b7f9381e7c1e",
   "metadata": {},
   "outputs": [
    {
     "name": "stdout",
     "output_type": "stream",
     "text": [
      "The 2024 Summer Olympics will feature several new sports and events, including:\n",
      "\n",
      "1. Breakdancing: This sport has been proposed as a new Olympic sport for the 2024 Games, and is currently under consideration by the International Olympic Committee (IOC).\n",
      "2. Skateboarding: Skateboarding was introduced as an Olympic sport in 2020, and will be featured again in 2024.\n",
      "3. Surfing: Surfing was also introduced as an Olympic sport in 2020, and will continue to be featured in 2024.\n",
      "4. Sport Climbing: This sport has been added to the Olympic program for the first time in 2020, and will continue to be featured in 2024.\n",
      "5. Karate: Karate was approved as an Olympic sport in 2018, and will make its debut at the 2024 Games.\n",
      "6. Breaking (Wushu): This sport has been proposed as a new Olympic sport for the 2024 Games, but is still under consideration by the IOC.\n",
      "7. Chess: Chess was considered as an Olympic sport in 2019, but it was ultimately decided that it would not be included in the 2024 Olympics.\n",
      "8. Esports: While esports was considered as a potential Olympic sport in the past, it is no longer being pursued for inclusion in the 2024 Games.\n",
      "\n",
      "These new sports and events are part of the Paris 2024 Organizing Committee's effort to make the Olympics more inclusive and diverse.\n"
     ]
    }
   ],
   "source": [
    "result = chain.invoke(\"What are the new sports that are being added for the 2024 summer olympics?\")\n",
    "print(result)"
   ]
  },
  {
   "cell_type": "code",
   "execution_count": null,
   "id": "41e7f1ae-38e0-4679-8710-a203f4736f8d",
   "metadata": {},
   "outputs": [],
   "source": []
  }
 ],
 "metadata": {
  "kernelspec": {
   "display_name": "torchgpu",
   "language": "python",
   "name": "torchgpu"
  },
  "language_info": {
   "codemirror_mode": {
    "name": "ipython",
    "version": 3
   },
   "file_extension": ".py",
   "mimetype": "text/x-python",
   "name": "python",
   "nbconvert_exporter": "python",
   "pygments_lexer": "ipython3",
   "version": "3.10.12"
  }
 },
 "nbformat": 4,
 "nbformat_minor": 5
}
