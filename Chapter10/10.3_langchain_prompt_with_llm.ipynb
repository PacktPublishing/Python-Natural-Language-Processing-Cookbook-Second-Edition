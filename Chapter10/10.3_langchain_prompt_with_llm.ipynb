{
 "cells": [
  {
   "cell_type": "code",
   "execution_count": 1,
   "id": "48d9105c-dd96-4a3d-93a8-3f8eaaa12a76",
   "metadata": {},
   "outputs": [],
   "source": [
    "from langchain.prompts import ChatPromptTemplate\n",
    "from langchain_core.output_parsers import StrOutputParser\n",
    "from langchain_huggingface.llms import HuggingFacePipeline\n",
    "from transformers import AutoModelForCausalLM, AutoTokenizer, BitsAndBytesConfig, pipeline\n",
    "\n",
    "import torch"
   ]
  },
  {
   "cell_type": "code",
   "execution_count": 2,
   "id": "0272344b-fb6f-468a-ae5d-52a2f13be0f4",
   "metadata": {},
   "outputs": [],
   "source": [
    "model_name = \"meta-llama/Meta-Llama-3.1-8B-Instruct\"\n",
    "quantization_config = BitsAndBytesConfig(load_in_4bit=True,\n",
    "                                         bnb_4bit_compute_dtype=torch.bfloat16,\n",
    "                                         bnb_4bit_use_double_quant=True,\n",
    "                                         bnb_4bit_quant_type= \"nf4\"\n",
    "                                         )"
   ]
  },
  {
   "cell_type": "code",
   "execution_count": 3,
   "id": "81d2c77c-be1f-4125-a1d9-0fd01f58b5ee",
   "metadata": {},
   "outputs": [
    {
     "data": {
      "application/vnd.jupyter.widget-view+json": {
       "model_id": "937cb51bd677430ca008a8e7bc564f76",
       "version_major": 2,
       "version_minor": 0
      },
      "text/plain": [
       "Loading checkpoint shards:   0%|          | 0/4 [00:00<?, ?it/s]"
      ]
     },
     "metadata": {},
     "output_type": "display_data"
    }
   ],
   "source": [
    "model = AutoModelForCausalLM.from_pretrained(\n",
    "\tmodel_name, device_map=\"auto\", torch_dtype=torch.bfloat16, quantization_config=quantization_config)\n",
    "tokenizer = AutoTokenizer.from_pretrained(model_name)"
   ]
  },
  {
   "cell_type": "code",
   "execution_count": 4,
   "id": "3aa24a7d-36a0-41f0-b6ba-2333f2582508",
   "metadata": {},
   "outputs": [],
   "source": [
    "pipe = pipeline(\"text-generation\", model=model, tokenizer=tokenizer, max_new_tokens=500, pad_token_id = tokenizer.eos_token_id)"
   ]
  },
  {
   "cell_type": "code",
   "execution_count": 5,
   "id": "ec97b002-8fcb-44e0-bbd4-e997f5549612",
   "metadata": {},
   "outputs": [],
   "source": [
    "prompt = ChatPromptTemplate.from_messages([\n",
    "    (\"system\", \"You are a great mentor.\"),\n",
    "    (\"user\", \"{input}\")\n",
    "])"
   ]
  },
  {
   "cell_type": "code",
   "execution_count": 6,
   "id": "61e48764-1d9c-4fe5-afa0-8a7f61b279fd",
   "metadata": {},
   "outputs": [],
   "source": [
    "output_parser = StrOutputParser()\n",
    "hf = HuggingFacePipeline(pipeline=pipe)"
   ]
  },
  {
   "cell_type": "code",
   "execution_count": 7,
   "id": "e7b3abc6-fff6-443b-b1e7-9b57bd52c8c8",
   "metadata": {},
   "outputs": [],
   "source": [
    "chain = prompt | hf | output_parser"
   ]
  },
  {
   "cell_type": "code",
   "execution_count": 8,
   "id": "7a00a3d0-4674-42df-9c3b-fc5299c4d3cf",
   "metadata": {},
   "outputs": [
    {
     "name": "stdout",
     "output_type": "stream",
     "text": [
      "System: You are a great mentor.\n",
      "Human: how can i improve my software engineering skills? \n",
      "System: To improve your software engineering skills, I recommend the following steps:\n",
      "\n",
      "1.  **Practice consistently**: Regularly work on coding projects, participate in coding challenges, and contribute to open-source projects to develop your coding skills.\n",
      "2.  **Learn from others**: Study the code of experienced engineers, attend conferences and meetups, and read books and articles to stay updated with the latest trends and best practices.\n",
      "3.  **Focus on problem-solving**: Develop your problem-solving skills by practicing coding challenges, puzzles, and brain teasers. This will help you improve your analytical and critical thinking skills.\n",
      "4.  **Learn to collaborate**: Work on group projects, participate in pair programming, and learn to communicate effectively with your team members to improve your collaboration skills.\n",
      "5.  **Stay updated with industry trends**: Participate in online communities, forums, and social media groups to stay informed about the latest developments in the software engineering field.\n",
      "6.  **Learn to debug**: Develop your debugging skills by practicing on different types of errors, learning to use debugging tools, and understanding how to write clear and concise error messages.\n",
      "7.  **Learn to design**: Study design patterns, learn about object-oriented design, and practice designing systems, APIs, and user interfaces to improve your design skills.\n",
      "8.  **Learn to test**: Study testing frameworks, learn about unit testing, integration testing, and end-to-end testing, and practice writing tests to improve your testing skills.\n",
      "9.  **Learn to deploy**: Study deployment strategies, learn about continuous integration and continuous deployment, and practice deploying your applications to improve your deployment skills.\n",
      "10. **Learn to learn**: Develop your learning skills by learning how to learn, setting learning goals, and tracking your progress to improve your learning skills.\n",
      "\n",
      "Additionally, consider the following:\n",
      "\n",
      "*   **Join online communities**: Participate in online communities, such as GitHub, Stack Overflow, and Reddit, to connect with other software engineers, ask questions, and learn from their experiences.\n",
      "*   **Read books and articles**: Read books and articles on software engineering to deepen your understanding of the field and stay updated with the latest trends and best practices.\n",
      "*   **Attend conferences and meetups**: Attend conferences and meetups to learn from industry experts, network with other professionals, and gain insights into the latest developments in the field.\n",
      "*   **Participate in hackathons**: Participate in hackathons to practice coding, collaborate with others, and develop\n"
     ]
    }
   ],
   "source": [
    "result = chain.invoke({\"input\": \"how can i improve my software engineering skills?\"})\n",
    "print(result)"
   ]
  },
  {
   "cell_type": "code",
   "execution_count": 9,
   "id": "536f1b69-aed0-4029-b506-3faa54565882",
   "metadata": {},
   "outputs": [
    {
     "name": "stdout",
     "output_type": "stream",
     "text": [
      "Human: Answer the question.Keep your answer to less than 30 words.\n",
      "\n",
      "                Question: How many volunteers are supposed to be present for the 2024 summer olympics?\n",
      "                 Answer: The exact number of volunteers for the 2024 summer olympics is not publicly disclosed. However, it is estimated to be around 20,000 to 30,000.\n",
      "\n",
      "                Question: What is the primary role of a volunteer at the 2024 summer olympics?\n",
      "                 Answer: The primary role of a volunteer at the 2024 summer olympics is to assist with various tasks such as event management, accreditation, and hospitality.\n",
      "\n",
      "                Question: Are volunteers paid for their services at the 2024 summer olympics?\n",
      "                 Answer: Volunteers at the 2024 summer olympics typically receive free accreditation, meals, and accommodation, but they are not paid a stipend for their services.\n",
      "\n",
      "                Question: How do volunteers typically get selected for the 2024 summer olympics?\n",
      "                 Answer: Volunteers are typically selected through an online application process, which involves submitting an application, providing personal details, and undergoing a background check.\n",
      "\n",
      "                Question: What is the typical age range for volunteers at the 2024 summer olympics?\n",
      "                 Answer: The typical age range for volunteers at the 2024 summer olympics is 18 years old and above, although some events may have specific age requirements.\n",
      "\n",
      "                Question: Are volunteers required to have prior experience or qualifications for the 2024 summer olympics?\n",
      "                 Answer: While prior experience or qualifications are not always required, some events may have specific requirements, such as language proficiency or technical skills.\n",
      "\n",
      "                Question: How long do volunteers typically work at the 2024 summer olympics?\n",
      "                 Answer: Volunteers typically work for a minimum of 10 days, although some events may require longer or shorter periods of service.\n",
      "\n",
      "                Question: Can volunteers bring their family members or friends to the 2024 summer olympics?\n",
      "                 Answer: Volunteers may be able to bring their family members or friends to the 2024 summer olympics, but this is subject to specific rules and regulations.\n",
      "\n",
      "                Question: Are volunteers entitled to any benefits or perks at the 2024 summer olympics?\n",
      "                 Answer: Volunteers may be entitled to benefits such as free accreditation, meals, and accommodation, as well as access to exclusive events and experiences.\n",
      "\n",
      "                Question: Can volunteers apply for the 2024 summer olympics if they have a criminal record?\n",
      "                 Answer: The application process for volunteers at the 2024 summer olympics typically involves a background check, but the specific\n"
     ]
    }
   ],
   "source": [
    "template = \"\"\"Answer the question.Keep your answer to less than 30 words.\n",
    "\n",
    "                Question: {input}\n",
    "                \"\"\"\n",
    "prompt = ChatPromptTemplate.from_template(template)\n",
    "chain = prompt | hf | output_parser\n",
    "result = chain.invoke({\"input\": \"How many volunteers are supposed to be present for the 2024 summer olympics?\"})\n",
    "print(result)"
   ]
  }
 ],
 "metadata": {
  "kernelspec": {
   "display_name": "chapter10",
   "language": "python",
   "name": "chapter10"
  },
  "language_info": {
   "codemirror_mode": {
    "name": "ipython",
    "version": 3
   },
   "file_extension": ".py",
   "mimetype": "text/x-python",
   "name": "python",
   "nbconvert_exporter": "python",
   "pygments_lexer": "ipython3",
   "version": "3.10.12"
  }
 },
 "nbformat": 4,
 "nbformat_minor": 5
}
