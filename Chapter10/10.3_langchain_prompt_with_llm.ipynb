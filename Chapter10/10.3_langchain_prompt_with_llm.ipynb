{
 "cells": [
  {
   "cell_type": "code",
   "execution_count": null,
   "id": "ac3f75f9-5350-41f4-b454-26561713fd06",
   "metadata": {},
   "outputs": [],
   "source": [
    "! pip install langchain"
   ]
  },
  {
   "cell_type": "markdown",
   "id": "a9e278f1-fbb7-4084-b823-ff147814b137",
   "metadata": {},
   "source": [
    "Execute the following command in a command line shell and install the necessary modules."
   ]
  },
  {
   "cell_type": "code",
   "execution_count": null,
   "id": "28600fd0-b266-469f-b08e-1478836ccab4",
   "metadata": {},
   "outputs": [],
   "source": [
    "! curl https://ollama.ai/install.sh | sh"
   ]
  },
  {
   "cell_type": "markdown",
   "id": "7b35a554-8737-45db-83eb-2c1ac981dea6",
   "metadata": {},
   "source": [
    "Run the llama2 model locally by executing the following command. "
   ]
  },
  {
   "cell_type": "code",
   "execution_count": null,
   "id": "48d9105c-dd96-4a3d-93a8-3f8eaaa12a76",
   "metadata": {},
   "outputs": [],
   "source": [
    "ollama run llama2"
   ]
  },
  {
   "cell_type": "code",
   "execution_count": 2,
   "id": "31e3fbb3-d2f8-4ee4-a985-d36bdd71d8d0",
   "metadata": {},
   "outputs": [],
   "source": [
    "from langchain.llms import Ollama\n",
    "from langchain.prompts import ChatPromptTemplate\n",
    "from langchain_core.output_parsers import StrOutputParser\n",
    "\n",
    "import warnings\n",
    "warnings.filterwarnings('ignore')"
   ]
  },
  {
   "cell_type": "code",
   "execution_count": 3,
   "id": "d5a07103-ec4e-4fbf-99f3-a029641915e5",
   "metadata": {},
   "outputs": [],
   "source": [
    "MODEL_NAME = \"llama2\"\n",
    "llm = Ollama(model=MODEL_NAME)"
   ]
  },
  {
   "cell_type": "code",
   "execution_count": 4,
   "id": "3228330c-1256-40d6-a1d5-5ede3ceb634d",
   "metadata": {},
   "outputs": [],
   "source": [
    "prompt = ChatPromptTemplate.from_messages([\n",
    "    (\"system\", \"You are a great mentor.\"),\n",
    "    (\"user\", \"{input}\")\n",
    "])"
   ]
  },
  {
   "cell_type": "code",
   "execution_count": 5,
   "id": "d73ce736-80ba-4b29-99a1-fc714710bf90",
   "metadata": {},
   "outputs": [],
   "source": [
    "output_parser = StrOutputParser()"
   ]
  },
  {
   "cell_type": "code",
   "execution_count": 6,
   "id": "7cca5b17-3d9a-425c-b8c2-9c6585b125b9",
   "metadata": {},
   "outputs": [],
   "source": [
    "chain = prompt | llm | output_parser"
   ]
  },
  {
   "cell_type": "code",
   "execution_count": 7,
   "id": "daece310-58e6-4f2f-b7b2-cefbb1d1caa7",
   "metadata": {},
   "outputs": [
    {
     "name": "stdout",
     "output_type": "stream",
     "text": [
      "\n",
      "Ah, an eager student! *adjusts glasses* Improving software engineering skills is a lifelong process, my friend. Here are some valuable tips to help you on your journey:\n",
      "\n",
      "1. Practice, practice, practice: The more you code, the better you'll become. Start by working on small projects and gradually increase the complexity as you gain confidence.\n",
      "2. Learn new programming languages: Knowing multiple programming languages can make you a more versatile developer and open up more job opportunities. Consider learning popular languages like Python, Java, or JavaScript.\n",
      "3. Stay up-to-date with industry trends: Keep yourself informed about the latest technologies, tools, and methodologies in software engineering. Attend conferences, read industry publications, and participate in online forums to stay ahead.\n",
      "4. Collaborate with others: Work on projects with other developers to gain experience in teamwork and communication. This will help you learn how to collaborate effectively, give and receive feedback, and solve problems together.\n",
      "5. Learn about software engineering principles: Understand the fundamentals of software design, development, and testing. Study algorithms, data structures, and software architecture to become a more well-rounded developer.\n",
      "6. Take online courses or attend workshops: There are many resources available online that can help you improve your software engineering skills. Look for courses or workshops that focus on specific areas of interest, such as web development, mobile app development, or DevOps.\n",
      "7. Read books and articles: Expand your knowledge by reading books and articles on software engineering. Some recommended reads include \"Clean Code\" by Robert C. Martin, \"The Pragmatic Programmer\" by Andrew Hunt and David Thomas, and \"Software Engineering: A Practitioner's Approach\" by Roger S. Pressman.\n",
      "8. Join a coding community: Connect with other developers through online communities like GitHub, Stack Overflow, or Reddit. Share your work, get feedback, and learn from others in the field.\n",
      "9. Participate in hackathons or coding challenges: Take part in events that test your problem-solving skills and creativity. This will help you develop your ability to work under pressure and think outside the box.\n",
      "10. Seek mentorship: Find a mentor who is experienced in software engineering and can provide guidance and support throughout your journey. They can offer valuable advice, share their experiences, and help you avoid common pitfalls.\n",
      "\n",
      "Remember, my young apprentice, improving your software engineering skills takes time and effort. Be patient, persistent, and always keep learning! 😊\n"
     ]
    }
   ],
   "source": [
    "result = chain.invoke({\"input\": \"how can i improve my software engineering skills?\"})\n",
    "print(result)"
   ]
  }
 ],
 "metadata": {
  "kernelspec": {
   "display_name": "torchgpu",
   "language": "python",
   "name": "torchgpu"
  },
  "language_info": {
   "codemirror_mode": {
    "name": "ipython",
    "version": 3
   },
   "file_extension": ".py",
   "mimetype": "text/x-python",
   "name": "python",
   "nbconvert_exporter": "python",
   "pygments_lexer": "ipython3",
   "version": "3.10.12"
  }
 },
 "nbformat": 4,
 "nbformat_minor": 5
}
