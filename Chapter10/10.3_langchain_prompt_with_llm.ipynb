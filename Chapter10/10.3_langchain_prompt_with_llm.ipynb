{
 "cells": [
  {
   "cell_type": "markdown",
   "id": "7b35a554-8737-45db-83eb-2c1ac981dea6",
   "metadata": {},
   "source": [
    "Run the llama2 model locally by executing the following command. "
   ]
  },
  {
   "cell_type": "code",
   "execution_count": null,
   "id": "48d9105c-dd96-4a3d-93a8-3f8eaaa12a76",
   "metadata": {},
   "outputs": [],
   "source": [
    "# ollama run llama2"
   ]
  },
  {
   "cell_type": "code",
   "execution_count": 1,
   "id": "31e3fbb3-d2f8-4ee4-a985-d36bdd71d8d0",
   "metadata": {},
   "outputs": [],
   "source": [
    "from langchain.llms import Ollama\n",
    "from langchain.prompts import ChatPromptTemplate\n",
    "from langchain_core.output_parsers import StrOutputParser\n",
    "\n",
    "import warnings\n",
    "warnings.filterwarnings('ignore')"
   ]
  },
  {
   "cell_type": "code",
   "execution_count": 2,
   "id": "d5a07103-ec4e-4fbf-99f3-a029641915e5",
   "metadata": {},
   "outputs": [],
   "source": [
    "MODEL_NAME = \"llama2\"\n",
    "llm = Ollama(model=MODEL_NAME)"
   ]
  },
  {
   "cell_type": "code",
   "execution_count": 3,
   "id": "3228330c-1256-40d6-a1d5-5ede3ceb634d",
   "metadata": {},
   "outputs": [],
   "source": [
    "prompt = ChatPromptTemplate.from_messages([\n",
    "    (\"system\", \"You are a great mentor.\"),\n",
    "    (\"user\", \"{input}\")\n",
    "])"
   ]
  },
  {
   "cell_type": "code",
   "execution_count": 4,
   "id": "d73ce736-80ba-4b29-99a1-fc714710bf90",
   "metadata": {},
   "outputs": [],
   "source": [
    "output_parser = StrOutputParser()"
   ]
  },
  {
   "cell_type": "code",
   "execution_count": 5,
   "id": "7cca5b17-3d9a-425c-b8c2-9c6585b125b9",
   "metadata": {},
   "outputs": [],
   "source": [
    "chain = prompt | llm | output_parser"
   ]
  },
  {
   "cell_type": "code",
   "execution_count": 6,
   "id": "daece310-58e6-4f2f-b7b2-cefbb1d1caa7",
   "metadata": {},
   "outputs": [
    {
     "name": "stdout",
     "output_type": "stream",
     "text": [
      "\n",
      "Ah, a curious and motivated individual! Improving software engineering skills is a lifelong journey, and there are many ways to enhance your abilities. Here are some tips that can help you on your path:\n",
      "\n",
      "1. Learn new programming languages and technologies: Keep up-to-date with the latest trends in software engineering by learning new programming languages, frameworks, and tools. This will enable you to tackle a wide range of projects and problems.\n",
      "2. Practice coding challenges and problems: Engage in coding challenges, hackathons, or participate in open-source projects. This will help you hone your problem-solving skills and increase your proficiency in different programming languages.\n",
      "3. Read books, articles, and blogs: Stay informed about the latest industry developments by reading books, articles, and blogs on software engineering. This will help you stay current with best practices, new technologies, and emerging trends.\n",
      "4. Join online communities and forums: Connect with other software engineers through online communities and forums. This will give you the opportunity to learn from others, share your knowledge, and stay motivated.\n",
      "5. Participate in coding bootcamps or workshops: Attend coding bootcamps or workshops to learn new skills and techniques. These events provide a great opportunity to network with other software engineers and learn from industry experts.\n",
      "6. Work on personal projects: Developing personal projects will help you apply your knowledge in real-world scenarios, build your portfolio, and demonstrate your skills to potential employers.\n",
      "7. Learn about software engineering principles and patterns: Understand the underlying principles and patterns of software engineering, such as design patterns, testing frameworks, and Agile methodologies. This will help you create more maintainable, scalable, and efficient code.\n",
      "8. Improve your communication skills: As a software engineer, you will often work in teams and collaborate with non-technical stakeholders. Developing strong communication skills will help you explain complex technical concepts to non-technical team members and clients.\n",
      "9. Stay organized and manage your time effectively: Software engineering involves working on multiple projects simultaneously, managing competing priorities, and meeting deadlines. Practice good time management techniques and use tools like project management software to stay organized.\n",
      "10. Continuously learn and improve: Finally, never stop learning! The field of software engineering is constantly evolving, so it's essential to stay up-to-date with the latest trends, technologies, and best practices. Continuously learn new skills, attend conferences, and engage in professional development opportunities to advance your career.\n",
      "\n",
      "By following these tips, you can continuously improve your software engineering skills and stay ahead of the curve in this dynamic field. Remember, learning is a lifelong process, and with dedication and persistence, you can achieve great things!\n"
     ]
    }
   ],
   "source": [
    "result = chain.invoke({\"input\": \"how can i improve my software engineering skills?\"})\n",
    "print(result)"
   ]
  },
  {
   "cell_type": "code",
   "execution_count": null,
   "id": "b63e8754-f629-431d-9348-ddff7ea41f87",
   "metadata": {},
   "outputs": [],
   "source": []
  }
 ],
 "metadata": {
  "kernelspec": {
   "display_name": "chapter10",
   "language": "python",
   "name": "chapter10"
  },
  "language_info": {
   "codemirror_mode": {
    "name": "ipython",
    "version": 3
   },
   "file_extension": ".py",
   "mimetype": "text/x-python",
   "name": "python",
   "nbconvert_exporter": "python",
   "pygments_lexer": "ipython3",
   "version": "3.10.12"
  }
 },
 "nbformat": 4,
 "nbformat_minor": 5
}
