{
 "cells": [
  {
   "cell_type": "code",
   "execution_count": 15,
   "id": "978df5ba-ef41-4db7-8de5-22b719f4e264",
   "metadata": {},
   "outputs": [],
   "source": [
    "import re\n",
    "import string\n",
    "import pandas as pd\n",
    "from sklearn.model_selection import train_test_split\n",
    "from sklearn.cluster import KMeans\n",
    "from nltk.probability import FreqDist\n",
    "from nltk.corpus import stopwords\n",
    "from sentence_transformers import SentenceTransformer\n",
    "from sklearn.metrics import classification_report"
   ]
  },
  {
   "cell_type": "code",
   "execution_count": 3,
   "id": "f33e7736-f8ac-48d2-9abf-fa0e46adafaa",
   "metadata": {},
   "outputs": [
    {
     "name": "stderr",
     "output_type": "stream",
     "text": [
      "/home/zhenya/.cache/pypoetry/virtualenvs/book-2nd-ed-tI3JII_H-py3.10/lib/python3.10/site-packages/torch/cuda/__init__.py:546: UserWarning: Can't initialize NVML\n",
      "  warnings.warn(\"Can't initialize NVML\")\n"
     ]
    }
   ],
   "source": [
    "%run -i \"../util/lang_utils.ipynb\""
   ]
  },
  {
   "cell_type": "code",
   "execution_count": 4,
   "id": "c02b3139-2f1c-478c-a286-323b359d4bf7",
   "metadata": {},
   "outputs": [
    {
     "name": "stdout",
     "output_type": "stream",
     "text": [
      "           category                                               text\n",
      "0              tech  tv future in the hands of viewers with home th...\n",
      "1          business  worldcom boss  left books alone  former worldc...\n",
      "2             sport  tigers wary of farrell  gamble  leicester say ...\n",
      "3             sport  yeading face newcastle in fa cup premiership s...\n",
      "4     entertainment  ocean s twelve raids box office ocean s twelve...\n",
      "...             ...                                                ...\n",
      "2220       business  cars pull down us retail figures us retail sal...\n",
      "2221       politics  kilroy unveils immigration policy ex-chatshow ...\n",
      "2222  entertainment  rem announce new glasgow concert us band rem h...\n",
      "2223       politics  how political squabbles snowball it s become c...\n",
      "2224          sport  souness delight at euro progress boss graeme s...\n",
      "\n",
      "[2225 rows x 2 columns]\n"
     ]
    }
   ],
   "source": [
    "bbc_df = pd.read_csv(\"../data/bbc-text.csv\")\n",
    "print(bbc_df)"
   ]
  },
  {
   "cell_type": "code",
   "execution_count": 5,
   "id": "cc326312-04e0-474f-8c8f-c0e0493bbdeb",
   "metadata": {},
   "outputs": [
    {
     "name": "stdout",
     "output_type": "stream",
     "text": [
      "2002\n",
      "223\n"
     ]
    }
   ],
   "source": [
    "bbc_train, bbc_test = train_test_split(bbc_df, test_size=0.1)\n",
    "print(len(bbc_train))\n",
    "print(len(bbc_test))"
   ]
  },
  {
   "cell_type": "code",
   "execution_count": 8,
   "id": "c5027dce-1bd0-4b2d-bb40-1978d8fd5470",
   "metadata": {},
   "outputs": [
    {
     "data": {
      "text/html": [
       "<style>#sk-container-id-2 {color: black;}#sk-container-id-2 pre{padding: 0;}#sk-container-id-2 div.sk-toggleable {background-color: white;}#sk-container-id-2 label.sk-toggleable__label {cursor: pointer;display: block;width: 100%;margin-bottom: 0;padding: 0.3em;box-sizing: border-box;text-align: center;}#sk-container-id-2 label.sk-toggleable__label-arrow:before {content: \"▸\";float: left;margin-right: 0.25em;color: #696969;}#sk-container-id-2 label.sk-toggleable__label-arrow:hover:before {color: black;}#sk-container-id-2 div.sk-estimator:hover label.sk-toggleable__label-arrow:before {color: black;}#sk-container-id-2 div.sk-toggleable__content {max-height: 0;max-width: 0;overflow: hidden;text-align: left;background-color: #f0f8ff;}#sk-container-id-2 div.sk-toggleable__content pre {margin: 0.2em;color: black;border-radius: 0.25em;background-color: #f0f8ff;}#sk-container-id-2 input.sk-toggleable__control:checked~div.sk-toggleable__content {max-height: 200px;max-width: 100%;overflow: auto;}#sk-container-id-2 input.sk-toggleable__control:checked~label.sk-toggleable__label-arrow:before {content: \"▾\";}#sk-container-id-2 div.sk-estimator input.sk-toggleable__control:checked~label.sk-toggleable__label {background-color: #d4ebff;}#sk-container-id-2 div.sk-label input.sk-toggleable__control:checked~label.sk-toggleable__label {background-color: #d4ebff;}#sk-container-id-2 input.sk-hidden--visually {border: 0;clip: rect(1px 1px 1px 1px);clip: rect(1px, 1px, 1px, 1px);height: 1px;margin: -1px;overflow: hidden;padding: 0;position: absolute;width: 1px;}#sk-container-id-2 div.sk-estimator {font-family: monospace;background-color: #f0f8ff;border: 1px dotted black;border-radius: 0.25em;box-sizing: border-box;margin-bottom: 0.5em;}#sk-container-id-2 div.sk-estimator:hover {background-color: #d4ebff;}#sk-container-id-2 div.sk-parallel-item::after {content: \"\";width: 100%;border-bottom: 1px solid gray;flex-grow: 1;}#sk-container-id-2 div.sk-label:hover label.sk-toggleable__label {background-color: #d4ebff;}#sk-container-id-2 div.sk-serial::before {content: \"\";position: absolute;border-left: 1px solid gray;box-sizing: border-box;top: 0;bottom: 0;left: 50%;z-index: 0;}#sk-container-id-2 div.sk-serial {display: flex;flex-direction: column;align-items: center;background-color: white;padding-right: 0.2em;padding-left: 0.2em;position: relative;}#sk-container-id-2 div.sk-item {position: relative;z-index: 1;}#sk-container-id-2 div.sk-parallel {display: flex;align-items: stretch;justify-content: center;background-color: white;position: relative;}#sk-container-id-2 div.sk-item::before, #sk-container-id-2 div.sk-parallel-item::before {content: \"\";position: absolute;border-left: 1px solid gray;box-sizing: border-box;top: 0;bottom: 0;left: 50%;z-index: -1;}#sk-container-id-2 div.sk-parallel-item {display: flex;flex-direction: column;z-index: 1;position: relative;background-color: white;}#sk-container-id-2 div.sk-parallel-item:first-child::after {align-self: flex-end;width: 50%;}#sk-container-id-2 div.sk-parallel-item:last-child::after {align-self: flex-start;width: 50%;}#sk-container-id-2 div.sk-parallel-item:only-child::after {width: 0;}#sk-container-id-2 div.sk-dashed-wrapped {border: 1px dashed gray;margin: 0 0.4em 0.5em 0.4em;box-sizing: border-box;padding-bottom: 0.4em;background-color: white;}#sk-container-id-2 div.sk-label label {font-family: monospace;font-weight: bold;display: inline-block;line-height: 1.2em;}#sk-container-id-2 div.sk-label-container {text-align: center;}#sk-container-id-2 div.sk-container {/* jupyter's `normalize.less` sets `[hidden] { display: none; }` but bootstrap.min.css set `[hidden] { display: none !important; }` so we also need the `!important` here to be able to override the default hidden behavior on the sphinx rendered scikit-learn.org. See: https://github.com/scikit-learn/scikit-learn/issues/21755 */display: inline-block !important;position: relative;}#sk-container-id-2 div.sk-text-repr-fallback {display: none;}</style><div id=\"sk-container-id-2\" class=\"sk-top-container\"><div class=\"sk-text-repr-fallback\"><pre>KMeans(n_clusters=5, n_init=&#x27;auto&#x27;)</pre><b>In a Jupyter environment, please rerun this cell to show the HTML representation or trust the notebook. <br />On GitHub, the HTML representation is unable to render, please try loading this page with nbviewer.org.</b></div><div class=\"sk-container\" hidden><div class=\"sk-item\"><div class=\"sk-estimator sk-toggleable\"><input class=\"sk-toggleable__control sk-hidden--visually\" id=\"sk-estimator-id-2\" type=\"checkbox\" checked><label for=\"sk-estimator-id-2\" class=\"sk-toggleable__label sk-toggleable__label-arrow\">KMeans</label><div class=\"sk-toggleable__content\"><pre>KMeans(n_clusters=5, n_init=&#x27;auto&#x27;)</pre></div></div></div></div></div>"
      ],
      "text/plain": [
       "KMeans(n_clusters=5, n_init='auto')"
      ]
     },
     "execution_count": 8,
     "metadata": {},
     "output_type": "execute_result"
    }
   ],
   "source": [
    "documents = bbc_train['text'].values\n",
    "model = SentenceTransformer('distilbert-base-nli-mean-tokens')\n",
    "encoded_data = model.encode(documents)\n",
    "km = KMeans(n_clusters=5, n_init='auto', init='k-means++')\n",
    "km.fit(encoded_data)"
   ]
  },
  {
   "cell_type": "code",
   "execution_count": 9,
   "id": "d8baba74-34db-428e-b0cd-228708e11a81",
   "metadata": {},
   "outputs": [
    {
     "name": "stdout",
     "output_type": "stream",
     "text": [
      "           category                                               text\n",
      "0              tech  tv future in the hands of viewers with home th...\n",
      "1          business  worldcom boss  left books alone  former worldc...\n",
      "2             sport  tigers wary of farrell  gamble  leicester say ...\n",
      "3             sport  yeading face newcastle in fa cup premiership s...\n",
      "4     entertainment  ocean s twelve raids box office ocean s twelve...\n",
      "...             ...                                                ...\n",
      "2220       business  cars pull down us retail figures us retail sal...\n",
      "2221       politics  kilroy unveils immigration policy ex-chatshow ...\n",
      "2222  entertainment  rem announce new glasgow concert us band rem h...\n",
      "2223       politics  how political squabbles snowball it s become c...\n",
      "2224          sport  souness delight at euro progress boss graeme s...\n",
      "\n",
      "[2225 rows x 2 columns]\n",
      "0\n",
      "['said', 'people', 'new', 'also', 'mr', 'would', 'could', 'one', 'music', 'technology', 'users', 'games', 'mobile', 'us', 'digital', 'use', 'many', 'make', 'like', 'online', 'software', 'used', 'get', 'computer', 'world', 'time', 'information', 'microsoft', 'year', 'net', 'way', 'uk', 'service', 'first', 'internet', 'video', 'game', 'data', 'system', 'phone', 'market', 'tv', 'search', 'says', 'services', 'work', 'two', 'security', 'using', 'firms', 'broadband', 'firm', 'take', 'industry', 'want', 'players', 'companies', 'apple', 'million', 'help', 'company', 'going', 'much', 'number', 'content', 'media', 'news', 'home', 'networks', 'part', 'around', 'web', 'show', 'already', 'e-mail', 'well', 'research', 'bbc', 'radio', 'see', 'made', 'network', 'access', 'need', 'website', 'may', 'pc', 'last', 'devices', 'site', 'gaming', 'even', 'set', 'years', 'go', 'play', 'next', 'available', 'control', 'according', 'able', 'phones', 'google', 'sony', 'added', 'told', 'find', 'found', 'download', 'different', 'future', 'virus', 'version', 'project', 'sites', 'still', 'every', 'consumers', 'children', 'systems', 'group', 'windows', 'wireless', 'files', 'months', 'big', 'europe', 'program', 'power', 'film', 'money', 'device', 'personal', 'become', 'technologies', 'bt', 'look', 'hard', 'offer', 'really', 'currently', 'likely', 'player', 'end', 'computers', 'programs', 'far', 'life', 'better', 'looking', 'called', 'websites', 'say', 'consumer', 'making', 'including', 'business', 'products', 'latest', 'know', 'another', 'something', 'three', 'good', 'however', 'real', 'although', 'gadget', 'pcs', 'spam', 'nintendo', 'think', 'via', 'come', 'dvd', 'free', 'working', 'without', 'important', 'messages', 'customers', '3g', 'move', 'sale', 'several', 'report', 'getting', 'lot', 'put', 'launch', 'rather', 'director', 'entertainment', 'expected', 'public', 'machines', 'five', 'back', 'ipod', 'less']\n",
      "1\n",
      "['said', 'year', 'us', 'growth', 'also', 'would', 'sales', 'economy', 'last', 'market', 'new', 'people', 'mr', 'uk', 'economic', 'government', 'prices', 'bank', 'company', 'could', 'one', 'figures', 'years', 'rise', 'firm', 'world', 'million', 'oil', 'analysts', 'months', 'however', 'expected', 'dollar', 'shares', 'quarter', 'two', 'china', 'first', 'according', 'may', 'report', 'rates', 'since', 'three', 'rate', 'many', 'december', 'still', 'chief', 'profits', 'spending', 'rose', 'strong', 'time', 'interest', 'demand', 'high', 'next', 'number', 'month', 'price', 'mobile', 'jobs', 'deal', 'europe', 'biggest', 'business', 'budget', 'made', 'fall', 'added', 'hit', 'companies', 'much', 'financial', 'likely', 'increase', 'country', 'news', 'costs', 'fell', 'recent', 'set', 'january', 'record', 'countries', 'told', 'india', 'total', 'markets', 'trade', 'group', 'says', 'services', 'higher', 'investment', 'week', 'phones', 'back', 'despite', 'well', 'consumer', 'deficit', 'data', 'tax', 'euros', 'japan', 'less', 'cut', 'stock', 'firms', 'industry', 'annual', 'exports', 'cost', 'state', 'south', 'end', 'make', 'money', 'pay', 'european', 'foreign', 'euro', 'take', 'part', 'investors', 'production', 'executive', 'net', 'digital', 'profit', 'office', 'share', 'phone', 'five', 'boost', 'even', 'previous', 'way', 'president', 'reported', 'although', 'debt', 'low', 'second', 'november', 'seen', 'domestic', 'see', 'get', 'say', 'past', 'global', 'use', 'service', 'continue', 'inflation', 'economist', 'third', 'sector', 'good', 'period', 'found', 'work', 'september', 'minister', 'main', 'earlier', 'help', 'sold', 'public', 'trading', 'london', 'lost', 'survey', 'level', 'go', 'current', 'around', 'largest', 'broadband', 'house', 'analyst', 'put', 'top', 'research', 'future', 'warned', 'compared', 'move', 'bbc', 'yukos', 'national', 'average', 'international', 'announced', 'major', 'former', 'music']\n",
      "2\n",
      "['said', 'mr', 'would', 'government', 'labour', 'people', 'blair', 'new', 'election', 'also', 'party', 'could', 'minister', 'us', 'told', 'brown', 'public', 'one', 'uk', 'plans', 'say', 'prime', 'howard', 'tax', 'eu', 'make', 'last', 'britain', 'tory', 'year', 'bbc', 'chancellor', 'says', 'secretary', 'next', 'law', 'general', 'time', 'may', 'leader', 'tories', 'country', 'home', 'campaign', 'two', 'get', 'lord', 'spokesman', 'added', 'tony', 'european', 'made', 'mps', 'issue', 'many', 'lib', 'like', 'way', 'take', 'back', 'saying', 'years', 'bill', 'going', 'week', 'british', 'michael', 'first', 'police', 'set', 'world', 'system', 'liberal', 'want', 'political', 'foreign', 'think', 'london', 'work', 'rules', 'vote', 'see', 'put', 'part', 'money', 'local', 'parties', 'expected', 'much', 'rights', 'still', 'ministers', 'council', 'whether', 'chief', 'decision', 'claims', 'right', 'kennedy', 'spending', 'deal', 'already', 'legal', 'services', 'court', 'immigration', 'economic', 'good', 'war', 'voters', 'report', 'parliament', 'house', 'office', 'go', 'case', 'conservative', 'economy', 'countries', 'iraq', 'committee', 'budget', 'need', 'meeting', 'support', 'news', 'europe', 'firms', 'come', 'state', 'plan', 'well', 'without', 'policy', 'however', 'change', 'use', 'national', 'believe', 'number', 'former', 'commission', 'even', 'cut', 'commons', 'must', 'give', 'move', 'ukip', 'help', 'asylum', 'clear', 'issues', 'human', 'health', 'lords', 'firm', 'called', 'used', 'market', 'end', 'proposals', 'since', 'future', 'gordon', 'chairman', 'mp', 'taxes', 'asked', 'dems', 'programme', 'act', 'president', 'business', 'group', 'blunkett', 'three', 'today', 'cabinet', 'charles', 'companies', 'conservatives', 'statement', 'argued', 'executive', 'service', 'current', 'kilroy-silk', 'far', 'needed', 'role', 'members', 'china', 'company', 'offer', 'david', 'claim', 'evidence', 'action', 'union']\n",
      "3\n",
      "['said', 'mr', 'would', 'also', 'us', 'last', 'two', 'one', 'new', 'game', 'time', 'england', 'year', 'could', 'told', 'first', 'film', 'club', 'made', 'three', 'world', 'years', 'added', 'back', 'play', 'make', 'people', 'injury', 'win', 'players', 'go', 'six', 'show', 'like', 'get', 'since', 'think', 'coach', 'former', 'cup', 'company', 'music', 'bbc', 'team', 'united', 'season', 'chelsea', 'uk', 'take', 'international', 'decision', 'next', 'week', 'five', 'four', 'good', 'well', 'best', 'rugby', 'still', 'action', 'court', 'want', 'group', 'league', 'side', 'may', 'going', 'says', 'work', 'lost', 'wales', 'know', 'match', 'following', 'firm', 'second', 'set', 'british', 'director', 'way', 'however', 'football', 'manager', 'open', 'playing', 'games', 'news', 'got', 'case', 'arsenal', 'played', 'see', 'right', 'tv', 'say', 'robinson', 'part', 'france', 'nations', 'chief', 'government', 'player', 'home', 'star', 'much', 'many', 'great', 'deal', 'london', 'manchester', 'final', 'boss', 'return', 'place', 'ireland', 'start', 'months', 'end', 'real', 'move', 'another', 'squad', 'john', 'number', 'later', 'big', 'sunday', 'top', 'left', 'men', 'whether', 'come', 'band', 'man', 'never', 'weeks', 'money', 'statement', 'party', 'saturday', 'scotland', 'life', 'spokesman', 'radio', 'police', 'european', 'chance', 'january', 'hit', 'wednesday', 'without', 'put', 'even', 'due', 'series', 'bank', 'drugs', 'sport', 'days', 'sale', 'failed', 'went', 'bid', 'david', 'february', 'taken', 'need', 'legal', 'charges', 'really', 'saying', 'williams', 'given', 'done', 'called', 'ms', 'day', 'face', 'expected', 'admitted', 'executive', 'use', 'tour', 'champions', 'business', 'centre', 'fans', 'denied', 'despite', 'public', 'march', 'took', 'including', 'major', 'offer', 'lot', 'trial', 'ago', 'came']\n",
      "4\n",
      "['said', 'best', 'first', 'one', 'year', 'film', 'also', 'new', 'world', 'win', 'last', 'us', 'game', 'two', 'top', 'years', 'time', 'awards', 'number', 'would', 'second', 'music', 'award', 'good', 'three', 'back', 'england', 'made', 'play', 'set', 'well', 'could', 'get', 'final', 'great', 'ireland', 'people', 'show', 'british', 'bbc', 'like', 'wales', 'uk', 'next', 'players', 'games', 'take', 'took', 'france', 'director', 'side', 'six', 'think', 'four', 'victory', 'mr', 'five', 'going', 'minutes', 'team', 'record', 'week', 'star', 'actor', 'way', 'title', 'match', 'got', 'place', 'home', 'played', 'since', 'really', 'beat', 'cup', 'come', 'third', 'williams', 'open', 'song', 'prize', 'album', 'make', 'actress', 'including', 'came', 'go', 'added', 'international', 'tv', 'still', 'britain', 'start', 'films', 'much', 'end', 'european', 'champion', 'went', 'try', 'band', 'many', 'put', 'day', 'big', 'lot', 'v', 'winning', 'festival', 'season', 'see', 'former', 'another', 'race', 'away', 'million', 'london', 'lead', 'rugby', 'ball', 'even', 'comedy', 'told', 'playing', 'better', 'know', 'man', 'life', 'player', 'performance', 'ahead', 'want', 'hit', 'career', 'italy', 'goal', 'american', 'mark', 'right', 'nominations', 'already', 'saturday', 'scotland', 'work', 'left', 'olympic', 'chance', 'group', 'coach', 'taking', 'named', 'early', 'nations', 'sunday', 'past', 'series', 'young', 'united', 'country', 'half', 'part', 'singer', 'grand', 'club', 'winner', 'success', 'long', 'never', 'event', 'oscar', 'used', 'winners', 'despite', 'r', 'run', 'irish', 'ever', 'role', 'ceremony', 'fans', 'little', 'return', 'hard', 'movie', 'stars', 'live', 'given', 'held', 'night', 'seed', 'times', 'category', 'hollywood', 'tour', 'lost', 'love', 'aviator', 'french', 'zealand', 'rock']\n"
     ]
    }
   ],
   "source": [
    "print_most_common_words_by_cluster(documents, km, 5)"
   ]
  },
  {
   "cell_type": "code",
   "execution_count": 10,
   "id": "13c44d80-d9dc-4d70-8dd3-7178d80b38dd",
   "metadata": {},
   "outputs": [
    {
     "name": "stdout",
     "output_type": "stream",
     "text": [
      "           category                                               text  \\\n",
      "102        business  why few targets are better than many the econo...   \n",
      "901   entertainment  eastwood s baby scoops top oscars clint eastwo...   \n",
      "627   entertainment  portishead back after eight years cult british...   \n",
      "1727          sport  serena ends sania mirza s dream sania mirza  t...   \n",
      "1379          sport  dibaba breaks 5 000m world record ethiopia s t...   \n",
      "...             ...                                                ...   \n",
      "786        business  german jobless rate at new record more than 5....   \n",
      "76         business  yukos sues four firms for $20bn russian oil fi...   \n",
      "54            sport  rovers reject third ferguson bid blackburn hav...   \n",
      "2218          sport  davies favours gloucester future wales hooker ...   \n",
      "316        business  takeover offer for sunderland fc bob murray  c...   \n",
      "\n",
      "      prediction  \n",
      "102            1  \n",
      "901            4  \n",
      "627            4  \n",
      "1727           4  \n",
      "1379           4  \n",
      "...          ...  \n",
      "786            1  \n",
      "76             3  \n",
      "54             3  \n",
      "2218           4  \n",
      "316            1  \n",
      "\n",
      "[223 rows x 3 columns]\n"
     ]
    }
   ],
   "source": [
    "bbc_test[\"prediction\"] = bbc_test[\"text\"].apply(lambda x: km.predict(model.encode([x]))[0])\n",
    "print(bbc_test)"
   ]
  },
  {
   "cell_type": "code",
   "execution_count": 16,
   "id": "9630290c-3201-41ca-b342-c708ef73683e",
   "metadata": {},
   "outputs": [
    {
     "name": "stdout",
     "output_type": "stream",
     "text": [
      "               precision    recall  f1-score   support\n",
      "\n",
      "     business       0.74      0.60      0.66        47\n",
      "entertainment       0.43      0.57      0.49        46\n",
      "     politics       0.73      0.77      0.75        31\n",
      "        sport       0.37      0.41      0.39        49\n",
      "         tech       0.87      0.66      0.75        50\n",
      "\n",
      "     accuracy                           0.59       223\n",
      "    macro avg       0.63      0.60      0.61       223\n",
      " weighted avg       0.62      0.59      0.60       223\n",
      "\n"
     ]
    }
   ],
   "source": [
    "topic_mapping = {0:\"tech\", 1:\"business\", 2:\"politics\", 3:\"sport\", 4:\"entertainment\"}\n",
    "bbc_test[\"pred_category\"] = bbc_test[\"prediction\"].apply(lambda x: topic_mapping[x])\n",
    "print(classification_report(bbc_test[\"category\"], bbc_test[\"pred_category\"]))"
   ]
  },
  {
   "cell_type": "code",
   "execution_count": 17,
   "id": "d4b449c6-64c5-4f3c-a37e-5c0c2a8d7621",
   "metadata": {},
   "outputs": [],
   "source": [
    "new_example = \"\"\"Manchester United players slumped to the turf \n",
    "at full-time in Germany on Tuesday in acknowledgement of what their \n",
    "latest pedestrian first-half display had cost them. The 3-2 loss at \n",
    "RB Leipzig means United will not be one of the 16 teams in the draw \n",
    "for the knockout stages of the Champions League. And this is not the \n",
    "only price for failure. The damage will be felt in the accounts, in \n",
    "the dealings they have with current and potentially future players \n",
    "and in the faith the fans have placed in manager Ole Gunnar Solskjaer. \n",
    "With Paul Pogba's agent angling for a move for his client and ex-United \n",
    "defender Phil Neville speaking of a \"witchhunt\" against his former team-mate \n",
    "Solskjaer, BBC Sport looks at the ramifications and reaction to a big loss for United.\"\"\""
   ]
  },
  {
   "cell_type": "code",
   "execution_count": 18,
   "id": "8fd317a7-e945-4736-9405-c1121612e05f",
   "metadata": {},
   "outputs": [
    {
     "name": "stdout",
     "output_type": "stream",
     "text": [
      "3\n"
     ]
    }
   ],
   "source": [
    "predictions = km.predict(model.encode([new_example]))\n",
    "print(predictions[0])"
   ]
  },
  {
   "cell_type": "code",
   "execution_count": null,
   "id": "04f9ac17-5793-42cc-a1a5-dcec436f6bab",
   "metadata": {},
   "outputs": [],
   "source": []
  }
 ],
 "metadata": {
  "kernelspec": {
   "display_name": "Python 3 (ipykernel)",
   "language": "python",
   "name": "python3"
  },
  "language_info": {
   "codemirror_mode": {
    "name": "ipython",
    "version": 3
   },
   "file_extension": ".py",
   "mimetype": "text/x-python",
   "name": "python",
   "nbconvert_exporter": "python",
   "pygments_lexer": "ipython3",
   "version": "3.10.12"
  }
 },
 "nbformat": 4,
 "nbformat_minor": 5
}
